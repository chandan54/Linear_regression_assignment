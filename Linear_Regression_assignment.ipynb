{
 "cells": [
  {
   "cell_type": "code",
   "execution_count": 1,
   "metadata": {},
   "outputs": [],
   "source": [
    "#importing Libraries\n",
    "import pandas as pd \n",
    "import numpy as np\n",
    "\n",
    "import matplotlib.pyplot as plt\n",
    "import seaborn as sns\n",
    "from matplotlib import rcParams"
   ]
  },
  {
   "cell_type": "code",
   "execution_count": 167,
   "metadata": {},
   "outputs": [],
   "source": [
    "#reading the file\n",
    "car = pd.read_csv(\"CarPrice_Assignment.csv\")"
   ]
  },
  {
   "cell_type": "code",
   "execution_count": 168,
   "metadata": {},
   "outputs": [
    {
     "data": {
      "text/plain": [
       "(205, 26)"
      ]
     },
     "execution_count": 168,
     "metadata": {},
     "output_type": "execute_result"
    }
   ],
   "source": [
    "car.shape"
   ]
  },
  {
   "cell_type": "code",
   "execution_count": 4,
   "metadata": {},
   "outputs": [],
   "source": [
    "#splitting the car name into company name and model name\n",
    "car[['company','model']] = car.CarName.str.split('\\\\s',n = 1, expand = True)"
   ]
  },
  {
   "cell_type": "code",
   "execution_count": 5,
   "metadata": {},
   "outputs": [
    {
     "data": {
      "text/html": [
       "<div>\n",
       "<style scoped>\n",
       "    .dataframe tbody tr th:only-of-type {\n",
       "        vertical-align: middle;\n",
       "    }\n",
       "\n",
       "    .dataframe tbody tr th {\n",
       "        vertical-align: top;\n",
       "    }\n",
       "\n",
       "    .dataframe thead th {\n",
       "        text-align: right;\n",
       "    }\n",
       "</style>\n",
       "<table border=\"1\" class=\"dataframe\">\n",
       "  <thead>\n",
       "    <tr style=\"text-align: right;\">\n",
       "      <th></th>\n",
       "      <th>car_ID</th>\n",
       "      <th>symboling</th>\n",
       "      <th>CarName</th>\n",
       "      <th>fueltype</th>\n",
       "      <th>aspiration</th>\n",
       "      <th>doornumber</th>\n",
       "      <th>carbody</th>\n",
       "      <th>drivewheel</th>\n",
       "      <th>enginelocation</th>\n",
       "      <th>wheelbase</th>\n",
       "      <th>...</th>\n",
       "      <th>boreratio</th>\n",
       "      <th>stroke</th>\n",
       "      <th>compressionratio</th>\n",
       "      <th>horsepower</th>\n",
       "      <th>peakrpm</th>\n",
       "      <th>citympg</th>\n",
       "      <th>highwaympg</th>\n",
       "      <th>price</th>\n",
       "      <th>company</th>\n",
       "      <th>model</th>\n",
       "    </tr>\n",
       "  </thead>\n",
       "  <tbody>\n",
       "    <tr>\n",
       "      <th>0</th>\n",
       "      <td>1</td>\n",
       "      <td>3</td>\n",
       "      <td>alfa-romero giulia</td>\n",
       "      <td>gas</td>\n",
       "      <td>std</td>\n",
       "      <td>two</td>\n",
       "      <td>convertible</td>\n",
       "      <td>rwd</td>\n",
       "      <td>front</td>\n",
       "      <td>88.6</td>\n",
       "      <td>...</td>\n",
       "      <td>3.47</td>\n",
       "      <td>2.68</td>\n",
       "      <td>9.0</td>\n",
       "      <td>111</td>\n",
       "      <td>5000</td>\n",
       "      <td>21</td>\n",
       "      <td>27</td>\n",
       "      <td>13495.0</td>\n",
       "      <td>alfa-romero</td>\n",
       "      <td>giulia</td>\n",
       "    </tr>\n",
       "    <tr>\n",
       "      <th>1</th>\n",
       "      <td>2</td>\n",
       "      <td>3</td>\n",
       "      <td>alfa-romero stelvio</td>\n",
       "      <td>gas</td>\n",
       "      <td>std</td>\n",
       "      <td>two</td>\n",
       "      <td>convertible</td>\n",
       "      <td>rwd</td>\n",
       "      <td>front</td>\n",
       "      <td>88.6</td>\n",
       "      <td>...</td>\n",
       "      <td>3.47</td>\n",
       "      <td>2.68</td>\n",
       "      <td>9.0</td>\n",
       "      <td>111</td>\n",
       "      <td>5000</td>\n",
       "      <td>21</td>\n",
       "      <td>27</td>\n",
       "      <td>16500.0</td>\n",
       "      <td>alfa-romero</td>\n",
       "      <td>stelvio</td>\n",
       "    </tr>\n",
       "    <tr>\n",
       "      <th>2</th>\n",
       "      <td>3</td>\n",
       "      <td>1</td>\n",
       "      <td>alfa-romero Quadrifoglio</td>\n",
       "      <td>gas</td>\n",
       "      <td>std</td>\n",
       "      <td>two</td>\n",
       "      <td>hatchback</td>\n",
       "      <td>rwd</td>\n",
       "      <td>front</td>\n",
       "      <td>94.5</td>\n",
       "      <td>...</td>\n",
       "      <td>2.68</td>\n",
       "      <td>3.47</td>\n",
       "      <td>9.0</td>\n",
       "      <td>154</td>\n",
       "      <td>5000</td>\n",
       "      <td>19</td>\n",
       "      <td>26</td>\n",
       "      <td>16500.0</td>\n",
       "      <td>alfa-romero</td>\n",
       "      <td>Quadrifoglio</td>\n",
       "    </tr>\n",
       "    <tr>\n",
       "      <th>3</th>\n",
       "      <td>4</td>\n",
       "      <td>2</td>\n",
       "      <td>audi 100 ls</td>\n",
       "      <td>gas</td>\n",
       "      <td>std</td>\n",
       "      <td>four</td>\n",
       "      <td>sedan</td>\n",
       "      <td>fwd</td>\n",
       "      <td>front</td>\n",
       "      <td>99.8</td>\n",
       "      <td>...</td>\n",
       "      <td>3.19</td>\n",
       "      <td>3.40</td>\n",
       "      <td>10.0</td>\n",
       "      <td>102</td>\n",
       "      <td>5500</td>\n",
       "      <td>24</td>\n",
       "      <td>30</td>\n",
       "      <td>13950.0</td>\n",
       "      <td>audi</td>\n",
       "      <td>100 ls</td>\n",
       "    </tr>\n",
       "    <tr>\n",
       "      <th>4</th>\n",
       "      <td>5</td>\n",
       "      <td>2</td>\n",
       "      <td>audi 100ls</td>\n",
       "      <td>gas</td>\n",
       "      <td>std</td>\n",
       "      <td>four</td>\n",
       "      <td>sedan</td>\n",
       "      <td>4wd</td>\n",
       "      <td>front</td>\n",
       "      <td>99.4</td>\n",
       "      <td>...</td>\n",
       "      <td>3.19</td>\n",
       "      <td>3.40</td>\n",
       "      <td>8.0</td>\n",
       "      <td>115</td>\n",
       "      <td>5500</td>\n",
       "      <td>18</td>\n",
       "      <td>22</td>\n",
       "      <td>17450.0</td>\n",
       "      <td>audi</td>\n",
       "      <td>100ls</td>\n",
       "    </tr>\n",
       "  </tbody>\n",
       "</table>\n",
       "<p>5 rows × 28 columns</p>\n",
       "</div>"
      ],
      "text/plain": [
       "   car_ID  symboling                   CarName fueltype aspiration doornumber  \\\n",
       "0       1          3        alfa-romero giulia      gas        std        two   \n",
       "1       2          3       alfa-romero stelvio      gas        std        two   \n",
       "2       3          1  alfa-romero Quadrifoglio      gas        std        two   \n",
       "3       4          2               audi 100 ls      gas        std       four   \n",
       "4       5          2                audi 100ls      gas        std       four   \n",
       "\n",
       "       carbody drivewheel enginelocation  wheelbase  ...  boreratio  stroke  \\\n",
       "0  convertible        rwd          front       88.6  ...       3.47    2.68   \n",
       "1  convertible        rwd          front       88.6  ...       3.47    2.68   \n",
       "2    hatchback        rwd          front       94.5  ...       2.68    3.47   \n",
       "3        sedan        fwd          front       99.8  ...       3.19    3.40   \n",
       "4        sedan        4wd          front       99.4  ...       3.19    3.40   \n",
       "\n",
       "   compressionratio  horsepower peakrpm citympg  highwaympg    price  \\\n",
       "0               9.0         111    5000      21          27  13495.0   \n",
       "1               9.0         111    5000      21          27  16500.0   \n",
       "2               9.0         154    5000      19          26  16500.0   \n",
       "3              10.0         102    5500      24          30  13950.0   \n",
       "4               8.0         115    5500      18          22  17450.0   \n",
       "\n",
       "       company         model  \n",
       "0  alfa-romero        giulia  \n",
       "1  alfa-romero       stelvio  \n",
       "2  alfa-romero  Quadrifoglio  \n",
       "3         audi        100 ls  \n",
       "4         audi         100ls  \n",
       "\n",
       "[5 rows x 28 columns]"
      ]
     },
     "execution_count": 5,
     "metadata": {},
     "output_type": "execute_result"
    }
   ],
   "source": [
    "car.head(5)"
   ]
  },
  {
   "cell_type": "code",
   "execution_count": 6,
   "metadata": {},
   "outputs": [],
   "source": [
    "#dropping the CarName column\n",
    "car = car.drop('CarName', axis=1)"
   ]
  },
  {
   "cell_type": "code",
   "execution_count": 7,
   "metadata": {},
   "outputs": [],
   "source": [
    "#replacing 4 with f in drivewheel column as 4wd = fwd\n",
    "car['drivewheel'] = car['drivewheel'].str.replace('4wd', 'fwd')\n",
    "car['company']=car['company'].str.replace('maxda','mazda')\n",
    "car['company']=car['company'].str.replace('Nissan','nissan')\n",
    "car['company']=car['company'].str.replace('porcshce','porsche')\n",
    "car['company']=car['company'].str.replace('saab','subaru')\n",
    "car['company']=car['company'].str.replace('toyouta','toyota')\n",
    "car['company']=car['company'].str.replace('vokswagen','volkswagen')\n",
    "car['company']=car['company'].str.replace('vw','volkswagen')"
   ]
  },
  {
   "cell_type": "code",
   "execution_count": 8,
   "metadata": {},
   "outputs": [
    {
     "data": {
      "text/plain": [
       "Index(['car_ID', 'symboling', 'fueltype', 'aspiration', 'doornumber',\n",
       "       'carbody', 'drivewheel', 'enginelocation', 'wheelbase', 'carlength',\n",
       "       'carwidth', 'carheight', 'curbweight', 'enginetype', 'cylindernumber',\n",
       "       'enginesize', 'fuelsystem', 'boreratio', 'stroke', 'compressionratio',\n",
       "       'horsepower', 'peakrpm', 'citympg', 'highwaympg', 'price', 'company',\n",
       "       'model'],\n",
       "      dtype='object')"
      ]
     },
     "execution_count": 8,
     "metadata": {},
     "output_type": "execute_result"
    }
   ],
   "source": [
    "car.columns"
   ]
  },
  {
   "cell_type": "code",
   "execution_count": 9,
   "metadata": {},
   "outputs": [],
   "source": [
    "import copy"
   ]
  },
  {
   "cell_type": "code",
   "execution_count": 10,
   "metadata": {},
   "outputs": [],
   "source": [
    "car_temp = copy.deepcopy(car)"
   ]
  },
  {
   "cell_type": "code",
   "execution_count": 11,
   "metadata": {},
   "outputs": [],
   "source": [
    "#dropping the non-numeric values\n",
    "car_temp = car_temp.drop(['car_ID','company','model'], axis =1)"
   ]
  },
  {
   "cell_type": "code",
   "execution_count": 12,
   "metadata": {},
   "outputs": [],
   "source": [
    "\n",
    "car_temp['symboling']=car_temp['symboling'].astype(str)"
   ]
  },
  {
   "cell_type": "code",
   "execution_count": 13,
   "metadata": {},
   "outputs": [],
   "source": [
    "#creating suffix to identify variables after creating dummy variables\n",
    "\n",
    "car_temp['symboling'] = car_temp['symboling'] + \" symb\"\n",
    "car_temp['aspiration'] = car_temp['aspiration'] + \" aspi\"\n",
    "car_temp['doornumber'] = car_temp['doornumber'] + \" no_door\"\n",
    "car_temp['enginelocation'] = car_temp['enginelocation'] + \" eng_loc\"\n",
    "car_temp['drivewheel'] = car_temp['drivewheel'] + \" drv_whl\"\n",
    "car_temp['enginetype'] = car_temp['enginetype'] + \" eng_typ\"\n",
    "car_temp['cylindernumber'] = car_temp['cylindernumber'] + \" no_cyl\"\n",
    "car_temp['fuelsystem'] = car_temp['fuelsystem'] + \" fuel_sys\"\n"
   ]
  },
  {
   "cell_type": "code",
   "execution_count": 14,
   "metadata": {},
   "outputs": [
    {
     "data": {
      "text/html": [
       "<div>\n",
       "<style scoped>\n",
       "    .dataframe tbody tr th:only-of-type {\n",
       "        vertical-align: middle;\n",
       "    }\n",
       "\n",
       "    .dataframe tbody tr th {\n",
       "        vertical-align: top;\n",
       "    }\n",
       "\n",
       "    .dataframe thead th {\n",
       "        text-align: right;\n",
       "    }\n",
       "</style>\n",
       "<table border=\"1\" class=\"dataframe\">\n",
       "  <thead>\n",
       "    <tr style=\"text-align: right;\">\n",
       "      <th></th>\n",
       "      <th>symboling</th>\n",
       "      <th>fueltype</th>\n",
       "      <th>aspiration</th>\n",
       "      <th>doornumber</th>\n",
       "      <th>carbody</th>\n",
       "      <th>drivewheel</th>\n",
       "      <th>enginelocation</th>\n",
       "      <th>wheelbase</th>\n",
       "      <th>carlength</th>\n",
       "      <th>carwidth</th>\n",
       "      <th>...</th>\n",
       "      <th>enginesize</th>\n",
       "      <th>fuelsystem</th>\n",
       "      <th>boreratio</th>\n",
       "      <th>stroke</th>\n",
       "      <th>compressionratio</th>\n",
       "      <th>horsepower</th>\n",
       "      <th>peakrpm</th>\n",
       "      <th>citympg</th>\n",
       "      <th>highwaympg</th>\n",
       "      <th>price</th>\n",
       "    </tr>\n",
       "  </thead>\n",
       "  <tbody>\n",
       "    <tr>\n",
       "      <th>0</th>\n",
       "      <td>3 symb</td>\n",
       "      <td>gas</td>\n",
       "      <td>std aspi</td>\n",
       "      <td>two no_door</td>\n",
       "      <td>convertible</td>\n",
       "      <td>rwd drv_whl</td>\n",
       "      <td>front eng_loc</td>\n",
       "      <td>88.6</td>\n",
       "      <td>168.8</td>\n",
       "      <td>64.1</td>\n",
       "      <td>...</td>\n",
       "      <td>130</td>\n",
       "      <td>mpfi fuel_sys</td>\n",
       "      <td>3.47</td>\n",
       "      <td>2.68</td>\n",
       "      <td>9.0</td>\n",
       "      <td>111</td>\n",
       "      <td>5000</td>\n",
       "      <td>21</td>\n",
       "      <td>27</td>\n",
       "      <td>13495.0</td>\n",
       "    </tr>\n",
       "    <tr>\n",
       "      <th>1</th>\n",
       "      <td>3 symb</td>\n",
       "      <td>gas</td>\n",
       "      <td>std aspi</td>\n",
       "      <td>two no_door</td>\n",
       "      <td>convertible</td>\n",
       "      <td>rwd drv_whl</td>\n",
       "      <td>front eng_loc</td>\n",
       "      <td>88.6</td>\n",
       "      <td>168.8</td>\n",
       "      <td>64.1</td>\n",
       "      <td>...</td>\n",
       "      <td>130</td>\n",
       "      <td>mpfi fuel_sys</td>\n",
       "      <td>3.47</td>\n",
       "      <td>2.68</td>\n",
       "      <td>9.0</td>\n",
       "      <td>111</td>\n",
       "      <td>5000</td>\n",
       "      <td>21</td>\n",
       "      <td>27</td>\n",
       "      <td>16500.0</td>\n",
       "    </tr>\n",
       "    <tr>\n",
       "      <th>2</th>\n",
       "      <td>1 symb</td>\n",
       "      <td>gas</td>\n",
       "      <td>std aspi</td>\n",
       "      <td>two no_door</td>\n",
       "      <td>hatchback</td>\n",
       "      <td>rwd drv_whl</td>\n",
       "      <td>front eng_loc</td>\n",
       "      <td>94.5</td>\n",
       "      <td>171.2</td>\n",
       "      <td>65.5</td>\n",
       "      <td>...</td>\n",
       "      <td>152</td>\n",
       "      <td>mpfi fuel_sys</td>\n",
       "      <td>2.68</td>\n",
       "      <td>3.47</td>\n",
       "      <td>9.0</td>\n",
       "      <td>154</td>\n",
       "      <td>5000</td>\n",
       "      <td>19</td>\n",
       "      <td>26</td>\n",
       "      <td>16500.0</td>\n",
       "    </tr>\n",
       "    <tr>\n",
       "      <th>3</th>\n",
       "      <td>2 symb</td>\n",
       "      <td>gas</td>\n",
       "      <td>std aspi</td>\n",
       "      <td>four no_door</td>\n",
       "      <td>sedan</td>\n",
       "      <td>fwd drv_whl</td>\n",
       "      <td>front eng_loc</td>\n",
       "      <td>99.8</td>\n",
       "      <td>176.6</td>\n",
       "      <td>66.2</td>\n",
       "      <td>...</td>\n",
       "      <td>109</td>\n",
       "      <td>mpfi fuel_sys</td>\n",
       "      <td>3.19</td>\n",
       "      <td>3.40</td>\n",
       "      <td>10.0</td>\n",
       "      <td>102</td>\n",
       "      <td>5500</td>\n",
       "      <td>24</td>\n",
       "      <td>30</td>\n",
       "      <td>13950.0</td>\n",
       "    </tr>\n",
       "    <tr>\n",
       "      <th>4</th>\n",
       "      <td>2 symb</td>\n",
       "      <td>gas</td>\n",
       "      <td>std aspi</td>\n",
       "      <td>four no_door</td>\n",
       "      <td>sedan</td>\n",
       "      <td>fwd drv_whl</td>\n",
       "      <td>front eng_loc</td>\n",
       "      <td>99.4</td>\n",
       "      <td>176.6</td>\n",
       "      <td>66.4</td>\n",
       "      <td>...</td>\n",
       "      <td>136</td>\n",
       "      <td>mpfi fuel_sys</td>\n",
       "      <td>3.19</td>\n",
       "      <td>3.40</td>\n",
       "      <td>8.0</td>\n",
       "      <td>115</td>\n",
       "      <td>5500</td>\n",
       "      <td>18</td>\n",
       "      <td>22</td>\n",
       "      <td>17450.0</td>\n",
       "    </tr>\n",
       "  </tbody>\n",
       "</table>\n",
       "<p>5 rows × 24 columns</p>\n",
       "</div>"
      ],
      "text/plain": [
       "  symboling fueltype aspiration    doornumber      carbody   drivewheel  \\\n",
       "0    3 symb      gas   std aspi   two no_door  convertible  rwd drv_whl   \n",
       "1    3 symb      gas   std aspi   two no_door  convertible  rwd drv_whl   \n",
       "2    1 symb      gas   std aspi   two no_door    hatchback  rwd drv_whl   \n",
       "3    2 symb      gas   std aspi  four no_door        sedan  fwd drv_whl   \n",
       "4    2 symb      gas   std aspi  four no_door        sedan  fwd drv_whl   \n",
       "\n",
       "  enginelocation  wheelbase  carlength  carwidth  ...  enginesize  \\\n",
       "0  front eng_loc       88.6      168.8      64.1  ...         130   \n",
       "1  front eng_loc       88.6      168.8      64.1  ...         130   \n",
       "2  front eng_loc       94.5      171.2      65.5  ...         152   \n",
       "3  front eng_loc       99.8      176.6      66.2  ...         109   \n",
       "4  front eng_loc       99.4      176.6      66.4  ...         136   \n",
       "\n",
       "      fuelsystem boreratio stroke  compressionratio horsepower  peakrpm  \\\n",
       "0  mpfi fuel_sys      3.47   2.68               9.0        111     5000   \n",
       "1  mpfi fuel_sys      3.47   2.68               9.0        111     5000   \n",
       "2  mpfi fuel_sys      2.68   3.47               9.0        154     5000   \n",
       "3  mpfi fuel_sys      3.19   3.40              10.0        102     5500   \n",
       "4  mpfi fuel_sys      3.19   3.40               8.0        115     5500   \n",
       "\n",
       "   citympg  highwaympg    price  \n",
       "0       21          27  13495.0  \n",
       "1       21          27  16500.0  \n",
       "2       19          26  16500.0  \n",
       "3       24          30  13950.0  \n",
       "4       18          22  17450.0  \n",
       "\n",
       "[5 rows x 24 columns]"
      ]
     },
     "execution_count": 14,
     "metadata": {},
     "output_type": "execute_result"
    }
   ],
   "source": [
    "car_temp.head()"
   ]
  },
  {
   "cell_type": "code",
   "execution_count": 15,
   "metadata": {},
   "outputs": [],
   "source": [
    "#creating Dummy variables\n",
    "#dropping the first variable as we can conclude the first one with other present variable\n",
    "\n",
    "#symboling\n",
    "symboling  = pd.get_dummies(car_temp['symboling'],drop_first= True)\n",
    "\n",
    "#fuel type has 2 categories\n",
    "fueltype = pd.get_dummies(car_temp['fueltype'], drop_first= True)\n",
    "\n",
    "#aspiration has 2 categories\n",
    "aspiration = pd.get_dummies(car_temp['aspiration'], drop_first= True)\n",
    "\n",
    "#doornumber has 2 categories\n",
    "doornumber = pd.get_dummies(car_temp['doornumber'], drop_first= True)\n",
    "\n",
    "#drivewheel has 2 categories\n",
    "drivewheel = pd.get_dummies(car_temp['drivewheel'], drop_first= True)\n",
    "\n",
    "#engine location has 2 categories\n",
    "enginelocation = pd.get_dummies(car_temp['enginelocation'], drop_first= True)\n",
    "\n",
    "#enginesize has 3 categories\n",
    "cylindernumber = pd.get_dummies(car_temp['cylindernumber'], drop_first= True)\n",
    "\n",
    "#fuelsystem has 2 categories\n",
    "fuelsystem = pd.get_dummies(car_temp['fuelsystem'], drop_first= True)\n",
    "\n",
    "#Carbody dummies\n",
    "carbody = pd.get_dummies(car_temp['carbody'], drop_first=True)\n",
    "\n",
    "#enginetype\n",
    "enginetype = pd.get_dummies(car_temp['enginetype'],drop_first= True)"
   ]
  },
  {
   "cell_type": "code",
   "execution_count": 16,
   "metadata": {},
   "outputs": [],
   "source": [
    "#adding the resulting dummy variables into main dataframe\n",
    "car_temp = pd.concat([car_temp,symboling,fueltype,aspiration,doornumber,drivewheel,enginelocation,cylindernumber,fuelsystem,carbody,enginetype], axis = 1)"
   ]
  },
  {
   "cell_type": "code",
   "execution_count": 17,
   "metadata": {},
   "outputs": [
    {
     "data": {
      "text/html": [
       "<div>\n",
       "<style scoped>\n",
       "    .dataframe tbody tr th:only-of-type {\n",
       "        vertical-align: middle;\n",
       "    }\n",
       "\n",
       "    .dataframe tbody tr th {\n",
       "        vertical-align: top;\n",
       "    }\n",
       "\n",
       "    .dataframe thead th {\n",
       "        text-align: right;\n",
       "    }\n",
       "</style>\n",
       "<table border=\"1\" class=\"dataframe\">\n",
       "  <thead>\n",
       "    <tr style=\"text-align: right;\">\n",
       "      <th></th>\n",
       "      <th>three no_cyl</th>\n",
       "      <th>twelve no_cyl</th>\n",
       "      <th>two no_cyl</th>\n",
       "      <th>2bbl fuel_sys</th>\n",
       "      <th>4bbl fuel_sys</th>\n",
       "      <th>idi fuel_sys</th>\n",
       "      <th>mfi fuel_sys</th>\n",
       "      <th>mpfi fuel_sys</th>\n",
       "      <th>spdi fuel_sys</th>\n",
       "      <th>spfi fuel_sys</th>\n",
       "      <th>hardtop</th>\n",
       "      <th>hatchback</th>\n",
       "      <th>sedan</th>\n",
       "      <th>wagon</th>\n",
       "      <th>dohcv eng_typ</th>\n",
       "      <th>l eng_typ</th>\n",
       "      <th>ohc eng_typ</th>\n",
       "      <th>ohcf eng_typ</th>\n",
       "      <th>ohcv eng_typ</th>\n",
       "      <th>rotor eng_typ</th>\n",
       "    </tr>\n",
       "  </thead>\n",
       "  <tbody>\n",
       "    <tr>\n",
       "      <th>0</th>\n",
       "      <td>0</td>\n",
       "      <td>0</td>\n",
       "      <td>0</td>\n",
       "      <td>0</td>\n",
       "      <td>0</td>\n",
       "      <td>0</td>\n",
       "      <td>0</td>\n",
       "      <td>1</td>\n",
       "      <td>0</td>\n",
       "      <td>0</td>\n",
       "      <td>0</td>\n",
       "      <td>0</td>\n",
       "      <td>0</td>\n",
       "      <td>0</td>\n",
       "      <td>0</td>\n",
       "      <td>0</td>\n",
       "      <td>0</td>\n",
       "      <td>0</td>\n",
       "      <td>0</td>\n",
       "      <td>0</td>\n",
       "    </tr>\n",
       "    <tr>\n",
       "      <th>1</th>\n",
       "      <td>0</td>\n",
       "      <td>0</td>\n",
       "      <td>0</td>\n",
       "      <td>0</td>\n",
       "      <td>0</td>\n",
       "      <td>0</td>\n",
       "      <td>0</td>\n",
       "      <td>1</td>\n",
       "      <td>0</td>\n",
       "      <td>0</td>\n",
       "      <td>0</td>\n",
       "      <td>0</td>\n",
       "      <td>0</td>\n",
       "      <td>0</td>\n",
       "      <td>0</td>\n",
       "      <td>0</td>\n",
       "      <td>0</td>\n",
       "      <td>0</td>\n",
       "      <td>0</td>\n",
       "      <td>0</td>\n",
       "    </tr>\n",
       "    <tr>\n",
       "      <th>2</th>\n",
       "      <td>0</td>\n",
       "      <td>0</td>\n",
       "      <td>0</td>\n",
       "      <td>0</td>\n",
       "      <td>0</td>\n",
       "      <td>0</td>\n",
       "      <td>0</td>\n",
       "      <td>1</td>\n",
       "      <td>0</td>\n",
       "      <td>0</td>\n",
       "      <td>0</td>\n",
       "      <td>1</td>\n",
       "      <td>0</td>\n",
       "      <td>0</td>\n",
       "      <td>0</td>\n",
       "      <td>0</td>\n",
       "      <td>0</td>\n",
       "      <td>0</td>\n",
       "      <td>1</td>\n",
       "      <td>0</td>\n",
       "    </tr>\n",
       "    <tr>\n",
       "      <th>3</th>\n",
       "      <td>0</td>\n",
       "      <td>0</td>\n",
       "      <td>0</td>\n",
       "      <td>0</td>\n",
       "      <td>0</td>\n",
       "      <td>0</td>\n",
       "      <td>0</td>\n",
       "      <td>1</td>\n",
       "      <td>0</td>\n",
       "      <td>0</td>\n",
       "      <td>0</td>\n",
       "      <td>0</td>\n",
       "      <td>1</td>\n",
       "      <td>0</td>\n",
       "      <td>0</td>\n",
       "      <td>0</td>\n",
       "      <td>1</td>\n",
       "      <td>0</td>\n",
       "      <td>0</td>\n",
       "      <td>0</td>\n",
       "    </tr>\n",
       "    <tr>\n",
       "      <th>4</th>\n",
       "      <td>0</td>\n",
       "      <td>0</td>\n",
       "      <td>0</td>\n",
       "      <td>0</td>\n",
       "      <td>0</td>\n",
       "      <td>0</td>\n",
       "      <td>0</td>\n",
       "      <td>1</td>\n",
       "      <td>0</td>\n",
       "      <td>0</td>\n",
       "      <td>0</td>\n",
       "      <td>0</td>\n",
       "      <td>1</td>\n",
       "      <td>0</td>\n",
       "      <td>0</td>\n",
       "      <td>0</td>\n",
       "      <td>1</td>\n",
       "      <td>0</td>\n",
       "      <td>0</td>\n",
       "      <td>0</td>\n",
       "    </tr>\n",
       "    <tr>\n",
       "      <th>5</th>\n",
       "      <td>0</td>\n",
       "      <td>0</td>\n",
       "      <td>0</td>\n",
       "      <td>0</td>\n",
       "      <td>0</td>\n",
       "      <td>0</td>\n",
       "      <td>0</td>\n",
       "      <td>1</td>\n",
       "      <td>0</td>\n",
       "      <td>0</td>\n",
       "      <td>0</td>\n",
       "      <td>0</td>\n",
       "      <td>1</td>\n",
       "      <td>0</td>\n",
       "      <td>0</td>\n",
       "      <td>0</td>\n",
       "      <td>1</td>\n",
       "      <td>0</td>\n",
       "      <td>0</td>\n",
       "      <td>0</td>\n",
       "    </tr>\n",
       "    <tr>\n",
       "      <th>6</th>\n",
       "      <td>0</td>\n",
       "      <td>0</td>\n",
       "      <td>0</td>\n",
       "      <td>0</td>\n",
       "      <td>0</td>\n",
       "      <td>0</td>\n",
       "      <td>0</td>\n",
       "      <td>1</td>\n",
       "      <td>0</td>\n",
       "      <td>0</td>\n",
       "      <td>0</td>\n",
       "      <td>0</td>\n",
       "      <td>1</td>\n",
       "      <td>0</td>\n",
       "      <td>0</td>\n",
       "      <td>0</td>\n",
       "      <td>1</td>\n",
       "      <td>0</td>\n",
       "      <td>0</td>\n",
       "      <td>0</td>\n",
       "    </tr>\n",
       "    <tr>\n",
       "      <th>7</th>\n",
       "      <td>0</td>\n",
       "      <td>0</td>\n",
       "      <td>0</td>\n",
       "      <td>0</td>\n",
       "      <td>0</td>\n",
       "      <td>0</td>\n",
       "      <td>0</td>\n",
       "      <td>1</td>\n",
       "      <td>0</td>\n",
       "      <td>0</td>\n",
       "      <td>0</td>\n",
       "      <td>0</td>\n",
       "      <td>0</td>\n",
       "      <td>1</td>\n",
       "      <td>0</td>\n",
       "      <td>0</td>\n",
       "      <td>1</td>\n",
       "      <td>0</td>\n",
       "      <td>0</td>\n",
       "      <td>0</td>\n",
       "    </tr>\n",
       "    <tr>\n",
       "      <th>8</th>\n",
       "      <td>0</td>\n",
       "      <td>0</td>\n",
       "      <td>0</td>\n",
       "      <td>0</td>\n",
       "      <td>0</td>\n",
       "      <td>0</td>\n",
       "      <td>0</td>\n",
       "      <td>1</td>\n",
       "      <td>0</td>\n",
       "      <td>0</td>\n",
       "      <td>0</td>\n",
       "      <td>0</td>\n",
       "      <td>1</td>\n",
       "      <td>0</td>\n",
       "      <td>0</td>\n",
       "      <td>0</td>\n",
       "      <td>1</td>\n",
       "      <td>0</td>\n",
       "      <td>0</td>\n",
       "      <td>0</td>\n",
       "    </tr>\n",
       "    <tr>\n",
       "      <th>9</th>\n",
       "      <td>0</td>\n",
       "      <td>0</td>\n",
       "      <td>0</td>\n",
       "      <td>0</td>\n",
       "      <td>0</td>\n",
       "      <td>0</td>\n",
       "      <td>0</td>\n",
       "      <td>1</td>\n",
       "      <td>0</td>\n",
       "      <td>0</td>\n",
       "      <td>0</td>\n",
       "      <td>1</td>\n",
       "      <td>0</td>\n",
       "      <td>0</td>\n",
       "      <td>0</td>\n",
       "      <td>0</td>\n",
       "      <td>1</td>\n",
       "      <td>0</td>\n",
       "      <td>0</td>\n",
       "      <td>0</td>\n",
       "    </tr>\n",
       "  </tbody>\n",
       "</table>\n",
       "</div>"
      ],
      "text/plain": [
       "   three no_cyl  twelve no_cyl  two no_cyl  2bbl fuel_sys  4bbl fuel_sys  \\\n",
       "0             0              0           0              0              0   \n",
       "1             0              0           0              0              0   \n",
       "2             0              0           0              0              0   \n",
       "3             0              0           0              0              0   \n",
       "4             0              0           0              0              0   \n",
       "5             0              0           0              0              0   \n",
       "6             0              0           0              0              0   \n",
       "7             0              0           0              0              0   \n",
       "8             0              0           0              0              0   \n",
       "9             0              0           0              0              0   \n",
       "\n",
       "   idi fuel_sys  mfi fuel_sys  mpfi fuel_sys  spdi fuel_sys  spfi fuel_sys  \\\n",
       "0             0             0              1              0              0   \n",
       "1             0             0              1              0              0   \n",
       "2             0             0              1              0              0   \n",
       "3             0             0              1              0              0   \n",
       "4             0             0              1              0              0   \n",
       "5             0             0              1              0              0   \n",
       "6             0             0              1              0              0   \n",
       "7             0             0              1              0              0   \n",
       "8             0             0              1              0              0   \n",
       "9             0             0              1              0              0   \n",
       "\n",
       "   hardtop  hatchback  sedan  wagon  dohcv eng_typ  l eng_typ  ohc eng_typ  \\\n",
       "0        0          0      0      0              0          0            0   \n",
       "1        0          0      0      0              0          0            0   \n",
       "2        0          1      0      0              0          0            0   \n",
       "3        0          0      1      0              0          0            1   \n",
       "4        0          0      1      0              0          0            1   \n",
       "5        0          0      1      0              0          0            1   \n",
       "6        0          0      1      0              0          0            1   \n",
       "7        0          0      0      1              0          0            1   \n",
       "8        0          0      1      0              0          0            1   \n",
       "9        0          1      0      0              0          0            1   \n",
       "\n",
       "   ohcf eng_typ  ohcv eng_typ  rotor eng_typ  \n",
       "0             0             0              0  \n",
       "1             0             0              0  \n",
       "2             0             1              0  \n",
       "3             0             0              0  \n",
       "4             0             0              0  \n",
       "5             0             0              0  \n",
       "6             0             0              0  \n",
       "7             0             0              0  \n",
       "8             0             0              0  \n",
       "9             0             0              0  "
      ]
     },
     "execution_count": 17,
     "metadata": {},
     "output_type": "execute_result"
    }
   ],
   "source": [
    "car_temp.head(10)[car_temp.columns[-20:]]"
   ]
  },
  {
   "cell_type": "code",
   "execution_count": 18,
   "metadata": {},
   "outputs": [],
   "source": [
    "#droppung the orignal variables after adding dummy variables\n",
    "car_temp = car_temp.drop(['fueltype','symboling','aspiration','doornumber','drivewheel','cylindernumber','fuelsystem','carbody','enginetype','enginelocation'], axis=1)"
   ]
  },
  {
   "cell_type": "code",
   "execution_count": 19,
   "metadata": {},
   "outputs": [
    {
     "data": {
      "text/html": [
       "<div>\n",
       "<style scoped>\n",
       "    .dataframe tbody tr th:only-of-type {\n",
       "        vertical-align: middle;\n",
       "    }\n",
       "\n",
       "    .dataframe tbody tr th {\n",
       "        vertical-align: top;\n",
       "    }\n",
       "\n",
       "    .dataframe thead th {\n",
       "        text-align: right;\n",
       "    }\n",
       "</style>\n",
       "<table border=\"1\" class=\"dataframe\">\n",
       "  <thead>\n",
       "    <tr style=\"text-align: right;\">\n",
       "      <th></th>\n",
       "      <th>wheelbase</th>\n",
       "      <th>carlength</th>\n",
       "      <th>carwidth</th>\n",
       "      <th>carheight</th>\n",
       "      <th>curbweight</th>\n",
       "      <th>enginesize</th>\n",
       "      <th>boreratio</th>\n",
       "      <th>stroke</th>\n",
       "      <th>compressionratio</th>\n",
       "      <th>horsepower</th>\n",
       "      <th>...</th>\n",
       "      <th>hardtop</th>\n",
       "      <th>hatchback</th>\n",
       "      <th>sedan</th>\n",
       "      <th>wagon</th>\n",
       "      <th>dohcv eng_typ</th>\n",
       "      <th>l eng_typ</th>\n",
       "      <th>ohc eng_typ</th>\n",
       "      <th>ohcf eng_typ</th>\n",
       "      <th>ohcv eng_typ</th>\n",
       "      <th>rotor eng_typ</th>\n",
       "    </tr>\n",
       "  </thead>\n",
       "  <tbody>\n",
       "    <tr>\n",
       "      <th>0</th>\n",
       "      <td>-0.296110</td>\n",
       "      <td>-0.078347</td>\n",
       "      <td>-0.150650</td>\n",
       "      <td>-0.410407</td>\n",
       "      <td>-0.002935</td>\n",
       "      <td>0.011671</td>\n",
       "      <td>0.100174</td>\n",
       "      <td>-0.274007</td>\n",
       "      <td>-0.071409</td>\n",
       "      <td>0.028679</td>\n",
       "      <td>...</td>\n",
       "      <td>-0.039024</td>\n",
       "      <td>-0.341463</td>\n",
       "      <td>-0.468293</td>\n",
       "      <td>-0.121951</td>\n",
       "      <td>-0.004878</td>\n",
       "      <td>-0.058537</td>\n",
       "      <td>-0.721951</td>\n",
       "      <td>-0.073171</td>\n",
       "      <td>-0.063415</td>\n",
       "      <td>-0.019512</td>\n",
       "    </tr>\n",
       "    <tr>\n",
       "      <th>1</th>\n",
       "      <td>-0.296110</td>\n",
       "      <td>-0.078347</td>\n",
       "      <td>-0.150650</td>\n",
       "      <td>-0.410407</td>\n",
       "      <td>-0.002935</td>\n",
       "      <td>0.011671</td>\n",
       "      <td>0.100174</td>\n",
       "      <td>-0.274007</td>\n",
       "      <td>-0.071409</td>\n",
       "      <td>0.028679</td>\n",
       "      <td>...</td>\n",
       "      <td>-0.039024</td>\n",
       "      <td>-0.341463</td>\n",
       "      <td>-0.468293</td>\n",
       "      <td>-0.121951</td>\n",
       "      <td>-0.004878</td>\n",
       "      <td>-0.058537</td>\n",
       "      <td>-0.721951</td>\n",
       "      <td>-0.073171</td>\n",
       "      <td>-0.063415</td>\n",
       "      <td>-0.019512</td>\n",
       "    </tr>\n",
       "    <tr>\n",
       "      <th>2</th>\n",
       "      <td>-0.124099</td>\n",
       "      <td>-0.042526</td>\n",
       "      <td>-0.033984</td>\n",
       "      <td>-0.110407</td>\n",
       "      <td>0.103737</td>\n",
       "      <td>0.094689</td>\n",
       "      <td>-0.464111</td>\n",
       "      <td>0.102184</td>\n",
       "      <td>-0.071409</td>\n",
       "      <td>0.207846</td>\n",
       "      <td>...</td>\n",
       "      <td>-0.039024</td>\n",
       "      <td>0.658537</td>\n",
       "      <td>-0.468293</td>\n",
       "      <td>-0.121951</td>\n",
       "      <td>-0.004878</td>\n",
       "      <td>-0.058537</td>\n",
       "      <td>-0.721951</td>\n",
       "      <td>-0.073171</td>\n",
       "      <td>0.936585</td>\n",
       "      <td>-0.019512</td>\n",
       "    </tr>\n",
       "    <tr>\n",
       "      <th>3</th>\n",
       "      <td>0.030420</td>\n",
       "      <td>0.038071</td>\n",
       "      <td>0.024350</td>\n",
       "      <td>0.047927</td>\n",
       "      <td>-0.084781</td>\n",
       "      <td>-0.067575</td>\n",
       "      <td>-0.099826</td>\n",
       "      <td>0.068850</td>\n",
       "      <td>-0.008909</td>\n",
       "      <td>-0.008821</td>\n",
       "      <td>...</td>\n",
       "      <td>-0.039024</td>\n",
       "      <td>-0.341463</td>\n",
       "      <td>0.531707</td>\n",
       "      <td>-0.121951</td>\n",
       "      <td>-0.004878</td>\n",
       "      <td>-0.058537</td>\n",
       "      <td>0.278049</td>\n",
       "      <td>-0.073171</td>\n",
       "      <td>-0.063415</td>\n",
       "      <td>-0.019512</td>\n",
       "    </tr>\n",
       "    <tr>\n",
       "      <th>4</th>\n",
       "      <td>0.018758</td>\n",
       "      <td>0.038071</td>\n",
       "      <td>0.041016</td>\n",
       "      <td>0.047927</td>\n",
       "      <td>0.104125</td>\n",
       "      <td>0.034312</td>\n",
       "      <td>-0.099826</td>\n",
       "      <td>0.068850</td>\n",
       "      <td>-0.133909</td>\n",
       "      <td>0.045346</td>\n",
       "      <td>...</td>\n",
       "      <td>-0.039024</td>\n",
       "      <td>-0.341463</td>\n",
       "      <td>0.531707</td>\n",
       "      <td>-0.121951</td>\n",
       "      <td>-0.004878</td>\n",
       "      <td>-0.058537</td>\n",
       "      <td>0.278049</td>\n",
       "      <td>-0.073171</td>\n",
       "      <td>-0.063415</td>\n",
       "      <td>-0.019512</td>\n",
       "    </tr>\n",
       "  </tbody>\n",
       "</table>\n",
       "<p>5 rows × 47 columns</p>\n",
       "</div>"
      ],
      "text/plain": [
       "   wheelbase  carlength  carwidth  carheight  curbweight  enginesize  \\\n",
       "0  -0.296110  -0.078347 -0.150650  -0.410407   -0.002935    0.011671   \n",
       "1  -0.296110  -0.078347 -0.150650  -0.410407   -0.002935    0.011671   \n",
       "2  -0.124099  -0.042526 -0.033984  -0.110407    0.103737    0.094689   \n",
       "3   0.030420   0.038071  0.024350   0.047927   -0.084781   -0.067575   \n",
       "4   0.018758   0.038071  0.041016   0.047927    0.104125    0.034312   \n",
       "\n",
       "   boreratio    stroke  compressionratio  horsepower  ...   hardtop  \\\n",
       "0   0.100174 -0.274007         -0.071409    0.028679  ... -0.039024   \n",
       "1   0.100174 -0.274007         -0.071409    0.028679  ... -0.039024   \n",
       "2  -0.464111  0.102184         -0.071409    0.207846  ... -0.039024   \n",
       "3  -0.099826  0.068850         -0.008909   -0.008821  ... -0.039024   \n",
       "4  -0.099826  0.068850         -0.133909    0.045346  ... -0.039024   \n",
       "\n",
       "   hatchback     sedan     wagon  dohcv eng_typ  l eng_typ  ohc eng_typ  \\\n",
       "0  -0.341463 -0.468293 -0.121951      -0.004878  -0.058537    -0.721951   \n",
       "1  -0.341463 -0.468293 -0.121951      -0.004878  -0.058537    -0.721951   \n",
       "2   0.658537 -0.468293 -0.121951      -0.004878  -0.058537    -0.721951   \n",
       "3  -0.341463  0.531707 -0.121951      -0.004878  -0.058537     0.278049   \n",
       "4  -0.341463  0.531707 -0.121951      -0.004878  -0.058537     0.278049   \n",
       "\n",
       "   ohcf eng_typ  ohcv eng_typ  rotor eng_typ  \n",
       "0     -0.073171     -0.063415      -0.019512  \n",
       "1     -0.073171     -0.063415      -0.019512  \n",
       "2     -0.073171      0.936585      -0.019512  \n",
       "3     -0.073171     -0.063415      -0.019512  \n",
       "4     -0.073171     -0.063415      -0.019512  \n",
       "\n",
       "[5 rows x 47 columns]"
      ]
     },
     "execution_count": 19,
     "metadata": {},
     "output_type": "execute_result"
    }
   ],
   "source": [
    "#normalising the data\n",
    "#defining a normalisation function \n",
    "def normalize (x): \n",
    "    return ( (x-np.mean(x))/ (max(x) - min(x)))\n",
    "\n",
    "#appplying it to all the columns\n",
    "car_temp = car_temp.apply(normalize)\n",
    "\n",
    "car_temp.head()"
   ]
  },
  {
   "cell_type": "code",
   "execution_count": 169,
   "metadata": {},
   "outputs": [
    {
     "data": {
      "text/plain": [
       "(205, 47)"
      ]
     },
     "execution_count": 169,
     "metadata": {},
     "output_type": "execute_result"
    }
   ],
   "source": [
    "car_temp.shape"
   ]
  },
  {
   "cell_type": "code",
   "execution_count": 20,
   "metadata": {},
   "outputs": [
    {
     "data": {
      "text/plain": [
       "Index(['wheelbase', 'carlength', 'carwidth', 'carheight', 'curbweight',\n",
       "       'enginesize', 'boreratio', 'stroke', 'compressionratio', 'horsepower',\n",
       "       'peakrpm', 'citympg', 'highwaympg', 'price', '-2 symb', '0 symb',\n",
       "       '1 symb', '2 symb', '3 symb', 'gas', 'turbo aspi', 'two no_door',\n",
       "       'rwd drv_whl', 'rear eng_loc', 'five no_cyl', 'four no_cyl',\n",
       "       'six no_cyl', 'three no_cyl', 'twelve no_cyl', 'two no_cyl',\n",
       "       '2bbl fuel_sys', '4bbl fuel_sys', 'idi fuel_sys', 'mfi fuel_sys',\n",
       "       'mpfi fuel_sys', 'spdi fuel_sys', 'spfi fuel_sys', 'hardtop',\n",
       "       'hatchback', 'sedan', 'wagon', 'dohcv eng_typ', 'l eng_typ',\n",
       "       'ohc eng_typ', 'ohcf eng_typ', 'ohcv eng_typ', 'rotor eng_typ'],\n",
       "      dtype='object')"
      ]
     },
     "execution_count": 20,
     "metadata": {},
     "output_type": "execute_result"
    }
   ],
   "source": [
    "car_temp.columns"
   ]
  },
  {
   "cell_type": "code",
   "execution_count": 21,
   "metadata": {},
   "outputs": [],
   "source": [
    "#putting feature variable into X\n",
    "X = car_temp[['wheelbase', 'carlength', 'carwidth', 'carheight', 'curbweight',\n",
    "       'enginesize', 'boreratio', 'stroke', 'compressionratio', 'horsepower',\n",
    "       'peakrpm', 'citympg', 'highwaympg', '-2 symb', '0 symb',\n",
    "       '1 symb', '2 symb', '3 symb', 'gas', 'turbo aspi', 'two no_door',\n",
    "       'rwd drv_whl', 'rear eng_loc', 'five no_cyl', 'four no_cyl',\n",
    "       'six no_cyl', 'three no_cyl', 'twelve no_cyl', 'two no_cyl',\n",
    "       '2bbl fuel_sys', '4bbl fuel_sys', 'idi fuel_sys', 'mfi fuel_sys',\n",
    "       'mpfi fuel_sys', 'spdi fuel_sys', 'spfi fuel_sys', 'hardtop',\n",
    "       'hatchback', 'sedan', 'wagon', 'dohcv eng_typ', 'l eng_typ',\n",
    "       'ohc eng_typ', 'ohcf eng_typ', 'ohcv eng_typ', 'rotor eng_typ']]\n",
    "#putting response cariable in Y\n",
    "y = car_temp['price']"
   ]
  },
  {
   "cell_type": "code",
   "execution_count": 22,
   "metadata": {},
   "outputs": [],
   "source": [
    "from sklearn.model_selection import train_test_split"
   ]
  },
  {
   "cell_type": "code",
   "execution_count": 23,
   "metadata": {},
   "outputs": [],
   "source": [
    "#splitting the data into train and test\n",
    "X_train, X_test, y_train, y_test = train_test_split(X, y, train_size = 0.7,test_size = 0.3, random_state = 100)"
   ]
  },
  {
   "cell_type": "code",
   "execution_count": 24,
   "metadata": {},
   "outputs": [
    {
     "name": "stderr",
     "output_type": "stream",
     "text": [
      "/home/chandan/anaconda3/lib/python3.7/site-packages/statsmodels/compat/pandas.py:23: FutureWarning: The Panel class is removed from pandas. Accessing it from the top-level namespace will also be removed in the next version\n",
      "  data_klasses = (pandas.Series, pandas.DataFrame, pandas.Panel)\n",
      "/home/chandan/anaconda3/lib/python3.7/site-packages/numpy/core/fromnumeric.py:2389: FutureWarning: Method .ptp is deprecated and will be removed in a future version. Use numpy.ptp instead.\n",
      "  return ptp(axis=axis, out=out, **kwargs)\n"
     ]
    }
   ],
   "source": [
    "\n",
    "import statsmodels.api as sm\n",
    "\n",
    "X_train = sm.add_constant(X_train)"
   ]
  },
  {
   "cell_type": "code",
   "execution_count": 25,
   "metadata": {},
   "outputs": [],
   "source": [
    "lm_1 = sm.OLS(y_train, X_train).fit() #running the linear model"
   ]
  },
  {
   "cell_type": "code",
   "execution_count": 26,
   "metadata": {},
   "outputs": [
    {
     "name": "stdout",
     "output_type": "stream",
     "text": [
      "                            OLS Regression Results                            \n",
      "==============================================================================\n",
      "Dep. Variable:                  price   R-squared:                       0.953\n",
      "Model:                            OLS   Adj. R-squared:                  0.933\n",
      "Method:                 Least Squares   F-statistic:                     48.05\n",
      "Date:                Thu, 12 Mar 2020   Prob (F-statistic):           3.16e-50\n",
      "Time:                        18:58:10   Log-Likelihood:                 250.54\n",
      "No. Observations:                 143   AIC:                            -415.1\n",
      "Df Residuals:                     100   BIC:                            -287.7\n",
      "Df Model:                          42                                         \n",
      "Covariance Type:            nonrobust                                         \n",
      "====================================================================================\n",
      "                       coef    std err          t      P>|t|      [0.025      0.975]\n",
      "------------------------------------------------------------------------------------\n",
      "wheelbase            0.1078      0.112      0.962      0.339      -0.115       0.330\n",
      "carlength           -0.0538      0.099     -0.543      0.589      -0.250       0.143\n",
      "carwidth             0.2042      0.091      2.251      0.027       0.024       0.384\n",
      "carheight            0.0403      0.045      0.891      0.375      -0.049       0.130\n",
      "curbweight           0.1328      0.122      1.086      0.280      -0.110       0.376\n",
      "enginesize           1.2853      0.294      4.376      0.000       0.703       1.868\n",
      "boreratio           -0.2391      0.101     -2.357      0.020      -0.440      -0.038\n",
      "stroke              -0.3908      0.077     -5.048      0.000      -0.544      -0.237\n",
      "compressionratio     0.0948      0.251      0.378      0.706      -0.403       0.593\n",
      "horsepower           0.3377      0.160      2.110      0.037       0.020       0.655\n",
      "peakrpm              0.0942      0.045      2.095      0.039       0.005       0.183\n",
      "citympg             -0.0135      0.151     -0.090      0.929      -0.312       0.285\n",
      "highwaympg           0.0856      0.154      0.556      0.579      -0.220       0.391\n",
      "-2 symb             -0.1157      0.046     -2.499      0.014      -0.208      -0.024\n",
      "0 symb               0.0353      0.025      1.405      0.163      -0.015       0.085\n",
      "1 symb               0.0406      0.028      1.452      0.150      -0.015       0.096\n",
      "2 symb               0.0401      0.030      1.316      0.191      -0.020       0.101\n",
      "3 symb              -0.0053      0.035     -0.152      0.880      -0.075       0.064\n",
      "gas                  0.0150      0.105      0.143      0.887      -0.193       0.222\n",
      "turbo aspi           0.0426      0.026      1.658      0.101      -0.008       0.094\n",
      "two no_door          0.0030      0.016      0.193      0.848      -0.028       0.034\n",
      "rwd drv_whl          0.0440      0.022      2.041      0.044       0.001       0.087\n",
      "rear eng_loc         0.2097      0.094      2.221      0.029       0.022       0.397\n",
      "five no_cyl         -0.0145      0.081     -0.179      0.859      -0.175       0.146\n",
      "four no_cyl          0.0621      0.101      0.615      0.540      -0.138       0.262\n",
      "six no_cyl          -0.0207      0.063     -0.328      0.743      -0.146       0.104\n",
      "three no_cyl         0.3874      0.133      2.914      0.004       0.124       0.651\n",
      "twelve no_cyl       -0.5955      0.153     -3.899      0.000      -0.899      -0.292\n",
      "two no_cyl           0.2103      0.073      2.864      0.005       0.065       0.356\n",
      "2bbl fuel_sys        0.0034      0.026      0.130      0.897      -0.049       0.055\n",
      "4bbl fuel_sys        0.0253      0.067      0.376      0.707      -0.108       0.159\n",
      "idi fuel_sys        -0.0150      0.105     -0.143      0.887      -0.222       0.193\n",
      "mfi fuel_sys        -0.9535      0.468     -2.040      0.044      -1.881      -0.026\n",
      "mpfi fuel_sys        0.0094      0.029      0.325      0.746      -0.048       0.067\n",
      "spdi fuel_sys       -0.0378      0.042     -0.906      0.367      -0.121       0.045\n",
      "spfi fuel_sys       -0.9535      0.468     -2.040      0.044      -1.881      -0.026\n",
      "hardtop             -0.1598      0.061     -2.611      0.010      -0.281      -0.038\n",
      "hatchback           -0.1223      0.043     -2.844      0.005      -0.208      -0.037\n",
      "sedan               -0.1091      0.047     -2.323      0.022      -0.202      -0.016\n",
      "wagon               -0.1204      0.049     -2.448      0.016      -0.218      -0.023\n",
      "dohcv eng_typ       -0.1380      0.131     -1.055      0.294      -0.398       0.122\n",
      "l eng_typ           -0.0125      0.051     -0.246      0.806      -0.113       0.088\n",
      "ohc eng_typ          0.1525      0.028      5.443      0.000       0.097       0.208\n",
      "ohcf eng_typ         0.0845      0.049      1.727      0.087      -0.013       0.181\n",
      "ohcv eng_typ        -0.0770      0.034     -2.268      0.025      -0.144      -0.010\n",
      "rotor eng_typ        0.2103      0.073      2.864      0.005       0.065       0.356\n",
      "==============================================================================\n",
      "Omnibus:                       17.337   Durbin-Watson:                   1.897\n",
      "Prob(Omnibus):                  0.000   Jarque-Bera (JB):               36.513\n",
      "Skew:                           0.496   Prob(JB):                     1.18e-08\n",
      "Kurtosis:                       5.268   Cond. No.                     1.30e+16\n",
      "==============================================================================\n",
      "\n",
      "Warnings:\n",
      "[1] Standard Errors assume that the covariance matrix of the errors is correctly specified.\n",
      "[2] The smallest eigenvalue is 7.75e-31. This might indicate that there are\n",
      "strong multicollinearity problems or that the design matrix is singular.\n"
     ]
    }
   ],
   "source": [
    "print(lm_1.summary())"
   ]
  },
  {
   "cell_type": "code",
   "execution_count": 27,
   "metadata": {},
   "outputs": [],
   "source": [
    "# Function for calculating vif value\n",
    "def vif_cal(input_data, dependent_col):\n",
    "    vif_df = pd.DataFrame( columns = ['Var', 'Vif'])\n",
    "    x_vars=input_data.drop([dependent_col], axis=1)\n",
    "    xvar_names=x_vars.columns\n",
    "    for i in range(0,xvar_names.shape[0]):\n",
    "        y=x_vars[xvar_names[i]] \n",
    "        x=x_vars[xvar_names.drop(xvar_names[i])]\n",
    "        rsq=sm.OLS(y,x).fit().rsquared  \n",
    "        vif=round(1/(1-rsq),2)\n",
    "        vif_df.loc[i] = [xvar_names[i], vif]\n",
    "    return vif_df.sort_values(by = 'Vif', axis=0, ascending=False, inplace=False)"
   ]
  },
  {
   "cell_type": "code",
   "execution_count": 28,
   "metadata": {},
   "outputs": [
    {
     "data": {
      "text/plain": [
       "46"
      ]
     },
     "execution_count": 28,
     "metadata": {},
     "output_type": "execute_result"
    }
   ],
   "source": [
    "len(X_train.columns)"
   ]
  },
  {
   "cell_type": "code",
   "execution_count": 29,
   "metadata": {},
   "outputs": [],
   "source": [
    "#importing the rfe libraries\n",
    "\n",
    "from sklearn.feature_selection import RFE\n",
    "from sklearn.linear_model import LinearRegression"
   ]
  },
  {
   "cell_type": "code",
   "execution_count": 30,
   "metadata": {},
   "outputs": [
    {
     "name": "stdout",
     "output_type": "stream",
     "text": [
      "[ True False  True False  True  True  True  True False  True  True False\n",
      "  True  True False False False False False  True False False  True False\n",
      "  True False  True  True  True False False False False False  True False\n",
      "  True  True  True  True False False  True  True  True  True]\n",
      "[ 1  6  1  3  1  1  1  1  5  1  1 12  1  1  9  8  7 18 16  1 20  2  1 14\n",
      "  1 13  1  1  1 19 11 10 21 17  1 22  1  1  1  1  4 15  1  1  1  1]\n"
     ]
    }
   ],
   "source": [
    "# Running RFE with the output number of the variable equal to 20\n",
    "lm = LinearRegression()\n",
    "rfe = RFE(lm, 25)             # running RFE\n",
    "rfe = rfe.fit(X_train, y_train)\n",
    "print(rfe.support_)           # Printing the boolean results\n",
    "print(rfe.ranking_)  "
   ]
  },
  {
   "cell_type": "code",
   "execution_count": 31,
   "metadata": {},
   "outputs": [],
   "source": [
    "col = X_train.columns[rfe.support_]\n"
   ]
  },
  {
   "cell_type": "code",
   "execution_count": 32,
   "metadata": {},
   "outputs": [
    {
     "data": {
      "text/plain": [
       "Index(['wheelbase', 'carwidth', 'curbweight', 'enginesize', 'boreratio',\n",
       "       'stroke', 'horsepower', 'peakrpm', 'highwaympg', '-2 symb',\n",
       "       'turbo aspi', 'rear eng_loc', 'four no_cyl', 'three no_cyl',\n",
       "       'twelve no_cyl', 'two no_cyl', 'spdi fuel_sys', 'hardtop', 'hatchback',\n",
       "       'sedan', 'wagon', 'ohc eng_typ', 'ohcf eng_typ', 'ohcv eng_typ',\n",
       "       'rotor eng_typ'],\n",
       "      dtype='object')"
      ]
     },
     "execution_count": 32,
     "metadata": {},
     "output_type": "execute_result"
    }
   ],
   "source": [
    "col"
   ]
  },
  {
   "cell_type": "code",
   "execution_count": 33,
   "metadata": {},
   "outputs": [],
   "source": [
    "# Creating X_test dataframe with RFE selected variables\n",
    "X_train_rfe = X_train[col]\n"
   ]
  },
  {
   "cell_type": "code",
   "execution_count": 34,
   "metadata": {},
   "outputs": [
    {
     "data": {
      "text/plain": [
       "Index(['wheelbase', 'carwidth', 'curbweight', 'enginesize', 'boreratio',\n",
       "       'stroke', 'horsepower', 'peakrpm', 'highwaympg', '-2 symb',\n",
       "       'turbo aspi', 'rear eng_loc', 'four no_cyl', 'three no_cyl',\n",
       "       'twelve no_cyl', 'two no_cyl', 'spdi fuel_sys', 'hardtop', 'hatchback',\n",
       "       'sedan', 'wagon', 'ohc eng_typ', 'ohcf eng_typ', 'ohcv eng_typ',\n",
       "       'rotor eng_typ'],\n",
       "      dtype='object')"
      ]
     },
     "execution_count": 34,
     "metadata": {},
     "output_type": "execute_result"
    }
   ],
   "source": [
    " \n",
    "import statsmodels.api as sm  \n",
    "\n",
    "X_train_rfe.columns"
   ]
  },
  {
   "cell_type": "code",
   "execution_count": 35,
   "metadata": {},
   "outputs": [],
   "source": [
    "lm = sm.OLS(y_train,X_train_rfe).fit() # Running the linear model"
   ]
  },
  {
   "cell_type": "code",
   "execution_count": 36,
   "metadata": {},
   "outputs": [
    {
     "name": "stdout",
     "output_type": "stream",
     "text": [
      "                                 OLS Regression Results                                \n",
      "=======================================================================================\n",
      "Dep. Variable:                  price   R-squared (uncentered):                   0.944\n",
      "Model:                            OLS   Adj. R-squared (uncentered):              0.933\n",
      "Method:                 Least Squares   F-statistic:                              83.58\n",
      "Date:                Thu, 12 Mar 2020   Prob (F-statistic):                    4.16e-63\n",
      "Time:                        18:58:30   Log-Likelihood:                          238.27\n",
      "No. Observations:                 143   AIC:                                     -428.5\n",
      "Df Residuals:                     119   BIC:                                     -357.4\n",
      "Df Model:                          24                                                  \n",
      "Covariance Type:            nonrobust                                                  \n",
      "=================================================================================\n",
      "                    coef    std err          t      P>|t|      [0.025      0.975]\n",
      "---------------------------------------------------------------------------------\n",
      "wheelbase         0.1129      0.074      1.533      0.128      -0.033       0.259\n",
      "carwidth          0.1288      0.065      1.994      0.048       0.001       0.257\n",
      "curbweight        0.2312      0.100      2.312      0.022       0.033       0.429\n",
      "enginesize        1.3289      0.165      8.034      0.000       1.001       1.656\n",
      "boreratio        -0.2157      0.062     -3.495      0.001      -0.338      -0.093\n",
      "stroke           -0.4133      0.056     -7.385      0.000      -0.524      -0.302\n",
      "horsepower        0.1830      0.091      2.013      0.046       0.003       0.363\n",
      "peakrpm           0.1118      0.034      3.256      0.001       0.044       0.180\n",
      "highwaympg        0.1294      0.055      2.360      0.020       0.021       0.238\n",
      "-2 symb          -0.1171      0.040     -2.937      0.004      -0.196      -0.038\n",
      "turbo aspi        0.0630      0.018      3.589      0.000       0.028       0.098\n",
      "rear eng_loc      0.2114      0.069      3.049      0.003       0.074       0.349\n",
      "four no_cyl       0.0524      0.028      1.860      0.065      -0.003       0.108\n",
      "three no_cyl      0.3391      0.071      4.744      0.000       0.198       0.481\n",
      "twelve no_cyl    -0.5245      0.090     -5.804      0.000      -0.703      -0.346\n",
      "two no_cyl        0.2183      0.028      7.772      0.000       0.163       0.274\n",
      "spdi fuel_sys    -0.0772      0.027     -2.822      0.006      -0.131      -0.023\n",
      "hardtop          -0.1220      0.052     -2.349      0.020      -0.225      -0.019\n",
      "hatchback        -0.1032      0.037     -2.825      0.006      -0.176      -0.031\n",
      "sedan            -0.0870      0.038     -2.311      0.023      -0.161      -0.012\n",
      "wagon            -0.1061      0.040     -2.662      0.009      -0.185      -0.027\n",
      "ohc eng_typ       0.1387      0.018      7.709      0.000       0.103       0.174\n",
      "ohcf eng_typ      0.0584      0.031      1.864      0.065      -0.004       0.120\n",
      "ohcv eng_typ     -0.0838      0.028     -3.009      0.003      -0.139      -0.029\n",
      "rotor eng_typ     0.2183      0.028      7.772      0.000       0.163       0.274\n",
      "==============================================================================\n",
      "Omnibus:                       26.082   Durbin-Watson:                   1.848\n",
      "Prob(Omnibus):                  0.000   Jarque-Bera (JB):               56.498\n",
      "Skew:                           0.766   Prob(JB):                     5.39e-13\n",
      "Kurtosis:                       5.671   Cond. No.                     1.82e+16\n",
      "==============================================================================\n",
      "\n",
      "Warnings:\n",
      "[1] Standard Errors assume that the covariance matrix of the errors is correctly specified.\n",
      "[2] The smallest eigenvalue is 1.92e-31. This might indicate that there are\n",
      "strong multicollinearity problems or that the design matrix is singular.\n"
     ]
    }
   ],
   "source": [
    "#Let's see the summary of our linear model\n",
    "print(lm.summary())"
   ]
  },
  {
   "cell_type": "code",
   "execution_count": 37,
   "metadata": {},
   "outputs": [
    {
     "data": {
      "text/plain": [
       "Index(['0 symb', '1 symb', '2 symb', '2bbl fuel_sys', '3 symb',\n",
       "       '4bbl fuel_sys', 'carheight', 'carlength', 'citympg',\n",
       "       'compressionratio', 'dohcv eng_typ', 'five no_cyl', 'gas',\n",
       "       'idi fuel_sys', 'l eng_typ', 'mfi fuel_sys', 'mpfi fuel_sys',\n",
       "       'rwd drv_whl', 'six no_cyl', 'spfi fuel_sys', 'two no_door'],\n",
       "      dtype='object')"
      ]
     },
     "execution_count": 37,
     "metadata": {},
     "output_type": "execute_result"
    }
   ],
   "source": [
    "X_train.columns.difference(X_train_rfe.columns)"
   ]
  },
  {
   "cell_type": "code",
   "execution_count": 69,
   "metadata": {},
   "outputs": [
    {
     "name": "stdout",
     "output_type": "stream",
     "text": [
      "Index(['wheelbase', 'carlength', 'carwidth', 'carheight', 'curbweight',\n",
      "       'enginesize', 'boreratio', 'stroke', 'compressionratio', 'horsepower',\n",
      "       'peakrpm', 'citympg', 'highwaympg', '-2 symb', '0 symb', '1 symb',\n",
      "       '2 symb', '3 symb', 'gas', 'turbo aspi', 'two no_door', 'rwd drv_whl',\n",
      "       'rear eng_loc', 'five no_cyl', 'four no_cyl', 'six no_cyl',\n",
      "       'three no_cyl', 'twelve no_cyl', 'two no_cyl', '2bbl fuel_sys',\n",
      "       '4bbl fuel_sys', 'idi fuel_sys', 'mfi fuel_sys', 'mpfi fuel_sys',\n",
      "       'spdi fuel_sys', 'spfi fuel_sys', 'hardtop', 'hatchback', 'sedan',\n",
      "       'wagon', 'dohcv eng_typ', 'l eng_typ', 'ohc eng_typ', 'ohcf eng_typ',\n",
      "       'ohcv eng_typ', 'rotor eng_typ'],\n",
      "      dtype='object')\n"
     ]
    },
    {
     "data": {
      "text/plain": [
       "Index(['wheelbase', 'carwidth', 'curbweight', 'enginesize', 'boreratio',\n",
       "       'stroke', 'horsepower', 'peakrpm', 'highwaympg', '-2 symb',\n",
       "       'turbo aspi', 'rear eng_loc', 'four no_cyl', 'three no_cyl',\n",
       "       'twelve no_cyl', 'two no_cyl', 'spdi fuel_sys', 'hardtop', 'hatchback',\n",
       "       'sedan', 'wagon', 'ohc eng_typ', 'ohcf eng_typ', 'ohcv eng_typ',\n",
       "       'rotor eng_typ'],\n",
       "      dtype='object')"
      ]
     },
     "execution_count": 69,
     "metadata": {},
     "output_type": "execute_result"
    }
   ],
   "source": [
    "print(X_train.columns)\n",
    "X_train_rfe.columns"
   ]
  },
  {
   "cell_type": "code",
   "execution_count": 38,
   "metadata": {},
   "outputs": [
    {
     "name": "stderr",
     "output_type": "stream",
     "text": [
      "/home/chandan/anaconda3/lib/python3.7/site-packages/ipykernel_launcher.py:10: RuntimeWarning: divide by zero encountered in double_scalars\n",
      "  # Remove the CWD from sys.path while we load stuff.\n"
     ]
    },
    {
     "data": {
      "text/html": [
       "<div>\n",
       "<style scoped>\n",
       "    .dataframe tbody tr th:only-of-type {\n",
       "        vertical-align: middle;\n",
       "    }\n",
       "\n",
       "    .dataframe tbody tr th {\n",
       "        vertical-align: top;\n",
       "    }\n",
       "\n",
       "    .dataframe thead th {\n",
       "        text-align: right;\n",
       "    }\n",
       "</style>\n",
       "<table border=\"1\" class=\"dataframe\">\n",
       "  <thead>\n",
       "    <tr style=\"text-align: right;\">\n",
       "      <th></th>\n",
       "      <th>Var</th>\n",
       "      <th>Vif</th>\n",
       "    </tr>\n",
       "  </thead>\n",
       "  <tbody>\n",
       "    <tr>\n",
       "      <th>24</th>\n",
       "      <td>rotor eng_typ</td>\n",
       "      <td>inf</td>\n",
       "    </tr>\n",
       "    <tr>\n",
       "      <th>15</th>\n",
       "      <td>two no_cyl</td>\n",
       "      <td>inf</td>\n",
       "    </tr>\n",
       "    <tr>\n",
       "      <th>3</th>\n",
       "      <td>enginesize</td>\n",
       "      <td>19.95</td>\n",
       "    </tr>\n",
       "    <tr>\n",
       "      <th>2</th>\n",
       "      <td>curbweight</td>\n",
       "      <td>18.63</td>\n",
       "    </tr>\n",
       "    <tr>\n",
       "      <th>19</th>\n",
       "      <td>sedan</td>\n",
       "      <td>14.33</td>\n",
       "    </tr>\n",
       "    <tr>\n",
       "      <th>18</th>\n",
       "      <td>hatchback</td>\n",
       "      <td>12.01</td>\n",
       "    </tr>\n",
       "    <tr>\n",
       "      <th>6</th>\n",
       "      <td>horsepower</td>\n",
       "      <td>10.79</td>\n",
       "    </tr>\n",
       "    <tr>\n",
       "      <th>0</th>\n",
       "      <td>wheelbase</td>\n",
       "      <td>7.54</td>\n",
       "    </tr>\n",
       "    <tr>\n",
       "      <th>20</th>\n",
       "      <td>wagon</td>\n",
       "      <td>7.16</td>\n",
       "    </tr>\n",
       "    <tr>\n",
       "      <th>1</th>\n",
       "      <td>carwidth</td>\n",
       "      <td>6.32</td>\n",
       "    </tr>\n",
       "    <tr>\n",
       "      <th>12</th>\n",
       "      <td>four no_cyl</td>\n",
       "      <td>5.71</td>\n",
       "    </tr>\n",
       "    <tr>\n",
       "      <th>8</th>\n",
       "      <td>highwaympg</td>\n",
       "      <td>5.34</td>\n",
       "    </tr>\n",
       "    <tr>\n",
       "      <th>4</th>\n",
       "      <td>boreratio</td>\n",
       "      <td>4.99</td>\n",
       "    </tr>\n",
       "    <tr>\n",
       "      <th>22</th>\n",
       "      <td>ohcf eng_typ</td>\n",
       "      <td>3.92</td>\n",
       "    </tr>\n",
       "    <tr>\n",
       "      <th>21</th>\n",
       "      <td>ohc eng_typ</td>\n",
       "      <td>3.22</td>\n",
       "    </tr>\n",
       "    <tr>\n",
       "      <th>17</th>\n",
       "      <td>hardtop</td>\n",
       "      <td>2.68</td>\n",
       "    </tr>\n",
       "    <tr>\n",
       "      <th>23</th>\n",
       "      <td>ohcv eng_typ</td>\n",
       "      <td>2.67</td>\n",
       "    </tr>\n",
       "    <tr>\n",
       "      <th>7</th>\n",
       "      <td>peakrpm</td>\n",
       "      <td>2.51</td>\n",
       "    </tr>\n",
       "    <tr>\n",
       "      <th>5</th>\n",
       "      <td>stroke</td>\n",
       "      <td>2.38</td>\n",
       "    </tr>\n",
       "    <tr>\n",
       "      <th>10</th>\n",
       "      <td>turbo aspi</td>\n",
       "      <td>2.21</td>\n",
       "    </tr>\n",
       "    <tr>\n",
       "      <th>11</th>\n",
       "      <td>rear eng_loc</td>\n",
       "      <td>2.16</td>\n",
       "    </tr>\n",
       "    <tr>\n",
       "      <th>14</th>\n",
       "      <td>twelve no_cyl</td>\n",
       "      <td>1.74</td>\n",
       "    </tr>\n",
       "    <tr>\n",
       "      <th>13</th>\n",
       "      <td>three no_cyl</td>\n",
       "      <td>1.56</td>\n",
       "    </tr>\n",
       "    <tr>\n",
       "      <th>16</th>\n",
       "      <td>spdi fuel_sys</td>\n",
       "      <td>1.54</td>\n",
       "    </tr>\n",
       "    <tr>\n",
       "      <th>9</th>\n",
       "      <td>-2 symb</td>\n",
       "      <td>1.16</td>\n",
       "    </tr>\n",
       "  </tbody>\n",
       "</table>\n",
       "</div>"
      ],
      "text/plain": [
       "              Var    Vif\n",
       "24  rotor eng_typ    inf\n",
       "15     two no_cyl    inf\n",
       "3      enginesize  19.95\n",
       "2      curbweight  18.63\n",
       "19          sedan  14.33\n",
       "18      hatchback  12.01\n",
       "6      horsepower  10.79\n",
       "0       wheelbase   7.54\n",
       "20          wagon   7.16\n",
       "1        carwidth   6.32\n",
       "12    four no_cyl   5.71\n",
       "8      highwaympg   5.34\n",
       "4       boreratio   4.99\n",
       "22   ohcf eng_typ   3.92\n",
       "21    ohc eng_typ   3.22\n",
       "17        hardtop   2.68\n",
       "23   ohcv eng_typ   2.67\n",
       "7         peakrpm   2.51\n",
       "5          stroke   2.38\n",
       "10     turbo aspi   2.21\n",
       "11   rear eng_loc   2.16\n",
       "14  twelve no_cyl   1.74\n",
       "13   three no_cyl   1.56\n",
       "16  spdi fuel_sys   1.54\n",
       "9         -2 symb   1.16"
      ]
     },
     "execution_count": 38,
     "metadata": {},
     "output_type": "execute_result"
    }
   ],
   "source": [
    "vif_cal(input_data=car_temp.drop(X_train.columns.difference(X_train_rfe.columns), axis = 1), dependent_col = \"price\")"
   ]
  },
  {
   "cell_type": "code",
   "execution_count": 66,
   "metadata": {},
   "outputs": [
    {
     "name": "stderr",
     "output_type": "stream",
     "text": [
      "/home/chandan/anaconda3/lib/python3.7/site-packages/numpy/core/fromnumeric.py:2389: FutureWarning: Method .ptp is deprecated and will be removed in a future version. Use numpy.ptp instead.\n",
      "  return ptp(axis=axis, out=out, **kwargs)\n"
     ]
    }
   ],
   "source": [
    "# Now let's use our model to make predictions.\n",
    "\n",
    "# Creating X_test_rfe dataframe by dropping variables from X_test\n",
    "X_test_rfe = X_test[col]\n",
    "\n",
    "# Adding a constant variable \n",
    "X_test_rfe = sm.add_constant(X_test_rfe)\n"
   ]
  },
  {
   "cell_type": "code",
   "execution_count": 40,
   "metadata": {},
   "outputs": [],
   "source": [
    "\n",
    "# Making predictions\n",
    "y_pred = lm.predict(X_test_rfe)"
   ]
  },
  {
   "cell_type": "code",
   "execution_count": 41,
   "metadata": {},
   "outputs": [
    {
     "data": {
      "text/plain": [
       "Text(0, 0.5, 'Price')"
      ]
     },
     "execution_count": 41,
     "metadata": {},
     "output_type": "execute_result"
    },
    {
     "data": {
      "image/png": "[encoded data removed]",
      "text/plain": [
       "<Figure size 432x288 with 1 Axes>"
      ]
     },
     "metadata": {
      "needs_background": "light"
     },
     "output_type": "display_data"
    }
   ],
   "source": [
    "%matplotlib inline\n",
    "# Actual and Predicted\n",
    "import matplotlib.pyplot as plt\n",
    "c = [i for i in range(1,63,1)] # generating index \n",
    "fig = plt.figure() \n",
    "plt.plot(c,y_test, color=\"blue\", linewidth=2.5, linestyle=\"-\") #Plotting Actual\n",
    "plt.plot(c,y_pred, color=\"red\",  linewidth=2.5, linestyle=\"-\") #Plotting predicted\n",
    "fig.suptitle('Actual and Predicted(With 20 var)', fontsize=20)              # Plot heading \n",
    "plt.xlabel('Index', fontsize=18)                               # X-label\n",
    "plt.ylabel('Price', fontsize=16)    "
   ]
  },
  {
   "cell_type": "code",
   "execution_count": 42,
   "metadata": {},
   "outputs": [
    {
     "data": {
      "text/plain": [
       "Text(0, 0.5, 'ytest-ypred')"
      ]
     },
     "execution_count": 42,
     "metadata": {},
     "output_type": "execute_result"
    },
    {
     "data": {
      "image/png": "[encoded data removed]",
      "text/plain": [
       "<Figure size 432x288 with 1 Axes>"
      ]
     },
     "metadata": {
      "needs_background": "light"
     },
     "output_type": "display_data"
    }
   ],
   "source": [
    "# Error terms\n",
    "c = [i for i in range(1,63,1)]\n",
    "fig = plt.figure()\n",
    "plt.plot(c,y_test-y_pred, color=\"blue\", linewidth=2.5, linestyle=\"-\")\n",
    "fig.suptitle('Error Terms', fontsize=20)              # Plot heading \n",
    "plt.xlabel('Index', fontsize=18)                      # X-label\n",
    "plt.ylabel('ytest-ypred', fontsize=16)                # Y-label"
   ]
  },
  {
   "cell_type": "code",
   "execution_count": 43,
   "metadata": {},
   "outputs": [
    {
     "data": {
      "text/plain": [
       "Text(0, 0.5, 'y_pred')"
      ]
     },
     "execution_count": 43,
     "metadata": {},
     "output_type": "execute_result"
    },
    {
     "data": {
      "image/png": "[encoded data removed]",
      "text/plain": [
       "<Figure size 432x288 with 1 Axes>"
      ]
     },
     "metadata": {
      "needs_background": "light"
     },
     "output_type": "display_data"
    }
   ],
   "source": [
    "# Plotting y_test and y_pred to understand the spread.\n",
    "fig = plt.figure()\n",
    "plt.scatter(y_test,y_pred)\n",
    "fig.suptitle('y_test vs y_pred', fontsize=20)              # Plot heading \n",
    "plt.xlabel('y_test', fontsize=18)                          # X-label\n",
    "plt.ylabel('y_pred', fontsize=16)                          # Y-label"
   ]
  },
  {
   "cell_type": "code",
   "execution_count": 44,
   "metadata": {},
   "outputs": [
    {
     "data": {
      "text/plain": [
       "Text(0, 0.5, 'Index')"
      ]
     },
     "execution_count": 44,
     "metadata": {},
     "output_type": "execute_result"
    },
    {
     "data": {
      "image/png": "[encoded data removed]",
      "text/plain": [
       "<Figure size 432x288 with 1 Axes>"
      ]
     },
     "metadata": {
      "needs_background": "light"
     },
     "output_type": "display_data"
    }
   ],
   "source": [
    "# Plotting the error terms to understand the distribution.\n",
    "fig = plt.figure()\n",
    "sns.distplot((y_test-y_pred),bins=50)\n",
    "fig.suptitle('Error Terms', fontsize=20)                  # Plot heading \n",
    "plt.xlabel('y_test-y_pred', fontsize=18)                  # X-label\n",
    "plt.ylabel('Index', fontsize=16)                  "
   ]
  },
  {
   "cell_type": "code",
   "execution_count": 45,
   "metadata": {},
   "outputs": [
    {
     "name": "stdout",
     "output_type": "stream",
     "text": [
      "RMSE : 0.07499911376896007\n"
     ]
    }
   ],
   "source": [
    "# Now let's check the Root Mean Square Error of our model.\n",
    "import numpy as np\n",
    "from sklearn import metrics\n",
    "print('RMSE :', np.sqrt(metrics.mean_squared_error(y_test, y_pred)))"
   ]
  },
  {
   "cell_type": "markdown",
   "metadata": {},
   "source": [
    "# SECOND MODEL"
   ]
  },
  {
   "cell_type": "code",
   "execution_count": 1161,
   "metadata": {
    "collapsed": true
   },
   "outputs": [],
   "source": [
    "#creating a second model"
   ]
  },
  {
   "cell_type": "code",
   "execution_count": 46,
   "metadata": {},
   "outputs": [
    {
     "name": "stdout",
     "output_type": "stream",
     "text": [
      "[ True False  True  True  True  True  True  True False  True  True False\n",
      "  True  True False False False False False  True False  True  True False\n",
      "  True False  True  True  True False False False False False  True False\n",
      "  True  True  True  True  True False  True  True  True  True]\n",
      "[ 1  3  1  1  1  1  1  1  2  1  1  9  1  1  6  5  4 15 13  1 17  1  1 11\n",
      "  1 10  1  1  1 16  8  7 18 14  1 19  1  1  1  1  1 12  1  1  1  1]\n"
     ]
    }
   ],
   "source": [
    "# Running RFE with the output number of the variable equal to 15\n",
    "lm = LinearRegression()\n",
    "rfe = RFE(lm, 28)             # running RFE\n",
    "rfe = rfe.fit(X_train, y_train)\n",
    "print(rfe.support_)           # Printing the boolean results\n",
    "print(rfe.ranking_)  "
   ]
  },
  {
   "cell_type": "code",
   "execution_count": 47,
   "metadata": {},
   "outputs": [],
   "source": [
    "col = X_train.columns[rfe.support_]"
   ]
  },
  {
   "cell_type": "code",
   "execution_count": 130,
   "metadata": {},
   "outputs": [
    {
     "data": {
      "text/plain": [
       "Index(['wheelbase', 'carlength', 'carwidth', 'carheight', 'curbweight',\n",
       "       'enginesize', 'boreratio', 'stroke', 'compressionratio', 'horsepower',\n",
       "       'peakrpm', 'citympg', 'highwaympg', '-2 symb', '0 symb', '1 symb',\n",
       "       '2 symb', '3 symb', 'gas', 'turbo aspi', 'two no_door', 'rwd drv_whl',\n",
       "       'rear eng_loc', 'five no_cyl', 'four no_cyl', 'six no_cyl',\n",
       "       'three no_cyl', 'twelve no_cyl', 'two no_cyl', '2bbl fuel_sys',\n",
       "       '4bbl fuel_sys', 'idi fuel_sys', 'mfi fuel_sys', 'mpfi fuel_sys',\n",
       "       'spdi fuel_sys', 'spfi fuel_sys', 'hardtop', 'hatchback', 'sedan',\n",
       "       'wagon', 'dohcv eng_typ', 'l eng_typ', 'ohc eng_typ', 'ohcf eng_typ',\n",
       "       'ohcv eng_typ', 'rotor eng_typ'],\n",
       "      dtype='object')"
      ]
     },
     "execution_count": 130,
     "metadata": {},
     "output_type": "execute_result"
    }
   ],
   "source": [
    "X_train.columns"
   ]
  },
  {
   "cell_type": "code",
   "execution_count": 49,
   "metadata": {},
   "outputs": [],
   "source": [
    "# Creating X_test dataframe with RFE selected variables\n",
    "X_train_rfe = X_train[col]"
   ]
  },
  {
   "cell_type": "code",
   "execution_count": 128,
   "metadata": {},
   "outputs": [
    {
     "data": {
      "text/plain": [
       "Index(['carwidth', 'boreratio', 'stroke', 'horsepower', 'peakrpm',\n",
       "       'highwaympg', '-2 symb', 'turbo aspi', 'rwd drv_whl', 'rear eng_loc',\n",
       "       'four no_cyl', 'three no_cyl', 'twelve no_cyl', 'two no_cyl',\n",
       "       'spdi fuel_sys', 'hardtop', 'hatchback', 'wagon', 'ohc eng_typ',\n",
       "       'ohcf eng_typ', 'ohcv eng_typ'],\n",
       "      dtype='object')"
      ]
     },
     "execution_count": 128,
     "metadata": {},
     "output_type": "execute_result"
    }
   ],
   "source": [
    "X_train_rfe.columns"
   ]
  },
  {
   "cell_type": "code",
   "execution_count": 65,
   "metadata": {},
   "outputs": [
    {
     "name": "stderr",
     "output_type": "stream",
     "text": [
      "/home/chandan/anaconda3/lib/python3.7/site-packages/pandas/core/frame.py:4117: SettingWithCopyWarning: \n",
      "A value is trying to be set on a copy of a slice from a DataFrame\n",
      "\n",
      "See the caveats in the documentation: http://pandas.pydata.org/pandas-docs/stable/user_guide/indexing.html#returning-a-view-versus-a-copy\n",
      "  errors=errors,\n"
     ]
    }
   ],
   "source": [
    "X_train_rfe.drop(labels =['wheelbase','carheight','dohcv eng_typ'], axis =1, inplace = True)"
   ]
  },
  {
   "cell_type": "code",
   "execution_count": 125,
   "metadata": {},
   "outputs": [],
   "source": [
    "X_train_rfe.drop(columns = ['enginesize'], inplace = True)"
   ]
  },
  {
   "cell_type": "code",
   "execution_count": 126,
   "metadata": {},
   "outputs": [],
   "source": [
    "lm_1 = sm.OLS(y_train,X_train_rfe).fit() # Running the linear model"
   ]
  },
  {
   "cell_type": "code",
   "execution_count": 121,
   "metadata": {},
   "outputs": [
    {
     "name": "stdout",
     "output_type": "stream",
     "text": [
      "Index(['carwidth', 'enginesize', 'boreratio', 'stroke', 'horsepower',\n",
      "       'peakrpm', 'highwaympg', '-2 symb', 'turbo aspi', 'rwd drv_whl',\n",
      "       'rear eng_loc', 'four no_cyl', 'three no_cyl', 'twelve no_cyl',\n",
      "       'two no_cyl', 'spdi fuel_sys', 'hardtop', 'hatchback', 'wagon',\n",
      "       'ohc eng_typ', 'ohcf eng_typ', 'ohcv eng_typ'],\n",
      "      dtype='object')\n"
     ]
    },
    {
     "data": {
      "text/plain": [
       "Index(['carwidth', 'enginesize', 'boreratio', 'stroke', 'horsepower',\n",
       "       'peakrpm', 'highwaympg', '-2 symb', 'turbo aspi', 'rwd drv_whl',\n",
       "       'rear eng_loc', 'four no_cyl', 'three no_cyl', 'twelve no_cyl',\n",
       "       'two no_cyl', 'spdi fuel_sys', 'hardtop', 'hatchback', 'wagon',\n",
       "       'ohc eng_typ', 'ohcf eng_typ', 'ohcv eng_typ'],\n",
       "      dtype='object')"
      ]
     },
     "execution_count": 121,
     "metadata": {},
     "output_type": "execute_result"
    }
   ],
   "source": [
    "# Now let's use our model to make predictions.\n",
    "\n",
    "# Creating X_test_rfe dataframe by dropping variables from X_test\n",
    "X_test_rfe = X_test[X_train_rfe.columns]\n",
    "\n",
    "# Adding a constant variable \n",
    "X_test_rfe = sm.add_constant(X_test_rfe)\n",
    "\n",
    "print(X_train_rfe.columns)\n",
    "X_test_rfe.columns"
   ]
  },
  {
   "cell_type": "code",
   "execution_count": 84,
   "metadata": {},
   "outputs": [],
   "source": [
    "X_test_rfe.drop(columns = ['wheelbase', 'carheight', 'dohcv eng_typ'], inplace = True)"
   ]
  },
  {
   "cell_type": "code",
   "execution_count": 122,
   "metadata": {},
   "outputs": [],
   "source": [
    "col = list(X_train_rfe.columns)"
   ]
  },
  {
   "cell_type": "code",
   "execution_count": 123,
   "metadata": {},
   "outputs": [],
   "source": [
    "col.append('price')"
   ]
  },
  {
   "cell_type": "code",
   "execution_count": 124,
   "metadata": {},
   "outputs": [
    {
     "data": {
      "text/html": [
       "<div>\n",
       "<style scoped>\n",
       "    .dataframe tbody tr th:only-of-type {\n",
       "        vertical-align: middle;\n",
       "    }\n",
       "\n",
       "    .dataframe tbody tr th {\n",
       "        vertical-align: top;\n",
       "    }\n",
       "\n",
       "    .dataframe thead th {\n",
       "        text-align: right;\n",
       "    }\n",
       "</style>\n",
       "<table border=\"1\" class=\"dataframe\">\n",
       "  <thead>\n",
       "    <tr style=\"text-align: right;\">\n",
       "      <th></th>\n",
       "      <th>Var</th>\n",
       "      <th>Vif</th>\n",
       "    </tr>\n",
       "  </thead>\n",
       "  <tbody>\n",
       "    <tr>\n",
       "      <th>1</th>\n",
       "      <td>enginesize</td>\n",
       "      <td>15.03</td>\n",
       "    </tr>\n",
       "    <tr>\n",
       "      <th>4</th>\n",
       "      <td>horsepower</td>\n",
       "      <td>8.98</td>\n",
       "    </tr>\n",
       "    <tr>\n",
       "      <th>11</th>\n",
       "      <td>four no_cyl</td>\n",
       "      <td>5.63</td>\n",
       "    </tr>\n",
       "    <tr>\n",
       "      <th>2</th>\n",
       "      <td>boreratio</td>\n",
       "      <td>5.54</td>\n",
       "    </tr>\n",
       "    <tr>\n",
       "      <th>6</th>\n",
       "      <td>highwaympg</td>\n",
       "      <td>4.12</td>\n",
       "    </tr>\n",
       "    <tr>\n",
       "      <th>20</th>\n",
       "      <td>ohcf eng_typ</td>\n",
       "      <td>4.02</td>\n",
       "    </tr>\n",
       "    <tr>\n",
       "      <th>0</th>\n",
       "      <td>carwidth</td>\n",
       "      <td>3.89</td>\n",
       "    </tr>\n",
       "    <tr>\n",
       "      <th>9</th>\n",
       "      <td>rwd drv_whl</td>\n",
       "      <td>3.05</td>\n",
       "    </tr>\n",
       "    <tr>\n",
       "      <th>19</th>\n",
       "      <td>ohc eng_typ</td>\n",
       "      <td>3.00</td>\n",
       "    </tr>\n",
       "    <tr>\n",
       "      <th>14</th>\n",
       "      <td>two no_cyl</td>\n",
       "      <td>2.63</td>\n",
       "    </tr>\n",
       "    <tr>\n",
       "      <th>3</th>\n",
       "      <td>stroke</td>\n",
       "      <td>2.47</td>\n",
       "    </tr>\n",
       "    <tr>\n",
       "      <th>21</th>\n",
       "      <td>ohcv eng_typ</td>\n",
       "      <td>2.40</td>\n",
       "    </tr>\n",
       "    <tr>\n",
       "      <th>5</th>\n",
       "      <td>peakrpm</td>\n",
       "      <td>2.38</td>\n",
       "    </tr>\n",
       "    <tr>\n",
       "      <th>10</th>\n",
       "      <td>rear eng_loc</td>\n",
       "      <td>2.08</td>\n",
       "    </tr>\n",
       "    <tr>\n",
       "      <th>8</th>\n",
       "      <td>turbo aspi</td>\n",
       "      <td>1.96</td>\n",
       "    </tr>\n",
       "    <tr>\n",
       "      <th>13</th>\n",
       "      <td>twelve no_cyl</td>\n",
       "      <td>1.62</td>\n",
       "    </tr>\n",
       "    <tr>\n",
       "      <th>12</th>\n",
       "      <td>three no_cyl</td>\n",
       "      <td>1.55</td>\n",
       "    </tr>\n",
       "    <tr>\n",
       "      <th>15</th>\n",
       "      <td>spdi fuel_sys</td>\n",
       "      <td>1.53</td>\n",
       "    </tr>\n",
       "    <tr>\n",
       "      <th>17</th>\n",
       "      <td>hatchback</td>\n",
       "      <td>1.38</td>\n",
       "    </tr>\n",
       "    <tr>\n",
       "      <th>16</th>\n",
       "      <td>hardtop</td>\n",
       "      <td>1.34</td>\n",
       "    </tr>\n",
       "    <tr>\n",
       "      <th>18</th>\n",
       "      <td>wagon</td>\n",
       "      <td>1.20</td>\n",
       "    </tr>\n",
       "    <tr>\n",
       "      <th>7</th>\n",
       "      <td>-2 symb</td>\n",
       "      <td>1.15</td>\n",
       "    </tr>\n",
       "  </tbody>\n",
       "</table>\n",
       "</div>"
      ],
      "text/plain": [
       "              Var    Vif\n",
       "1      enginesize  15.03\n",
       "4      horsepower   8.98\n",
       "11    four no_cyl   5.63\n",
       "2       boreratio   5.54\n",
       "6      highwaympg   4.12\n",
       "20   ohcf eng_typ   4.02\n",
       "0        carwidth   3.89\n",
       "9     rwd drv_whl   3.05\n",
       "19    ohc eng_typ   3.00\n",
       "14     two no_cyl   2.63\n",
       "3          stroke   2.47\n",
       "21   ohcv eng_typ   2.40\n",
       "5         peakrpm   2.38\n",
       "10   rear eng_loc   2.08\n",
       "8      turbo aspi   1.96\n",
       "13  twelve no_cyl   1.62\n",
       "12   three no_cyl   1.55\n",
       "15  spdi fuel_sys   1.53\n",
       "17      hatchback   1.38\n",
       "16        hardtop   1.34\n",
       "18          wagon   1.20\n",
       "7         -2 symb   1.15"
      ]
     },
     "execution_count": 124,
     "metadata": {},
     "output_type": "execute_result"
    }
   ],
   "source": [
    "vif_cal(input_data=car_temp[col], dependent_col = \"price\")"
   ]
  },
  {
   "cell_type": "code",
   "execution_count": 100,
   "metadata": {},
   "outputs": [],
   "source": [
    "# Making predictions\n",
    "y_pred = lm_1.predict(X_test_rfe)"
   ]
  },
  {
   "cell_type": "code",
   "execution_count": 101,
   "metadata": {},
   "outputs": [
    {
     "data": {
      "text/plain": [
       "Text(0, 0.5, 'Price')"
      ]
     },
     "execution_count": 101,
     "metadata": {},
     "output_type": "execute_result"
    },
    {
     "data": {
      "image/png": "[encoded data removed]",
      "text/plain": [
       "<Figure size 432x288 with 1 Axes>"
      ]
     },
     "metadata": {
      "needs_background": "light"
     },
     "output_type": "display_data"
    }
   ],
   "source": [
    "# Actual and Predicted\n",
    "import matplotlib.pyplot as plt\n",
    "c = [i for i in range(1,63,1)] # generating index \n",
    "fig = plt.figure() \n",
    "plt.plot(c,y_test, color=\"blue\", linewidth=2.5, linestyle=\"-\") #Plotting Actual\n",
    "plt.plot(c,y_pred, color=\"red\",  linewidth=2.5, linestyle=\"-\") #Plotting predicted\n",
    "fig.suptitle('Actual and Predicted(with 15 variables)', fontsize=20)              # Plot heading \n",
    "plt.xlabel('Index', fontsize=18)                               # X-label\n",
    "plt.ylabel('Price', fontsize=16)    "
   ]
  },
  {
   "cell_type": "code",
   "execution_count": 102,
   "metadata": {},
   "outputs": [
    {
     "data": {
      "text/plain": [
       "Text(0, 0.5, 'ytest-ypred')"
      ]
     },
     "execution_count": 102,
     "metadata": {},
     "output_type": "execute_result"
    },
    {
     "data": {
      "image/png": "[encoded data removed]",
      "text/plain": [
       "<Figure size 432x288 with 1 Axes>"
      ]
     },
     "metadata": {
      "needs_background": "light"
     },
     "output_type": "display_data"
    }
   ],
   "source": [
    "# Error terms\n",
    "c = [i for i in range(1,63,1)]\n",
    "fig = plt.figure()\n",
    "plt.plot(c,y_test-y_pred, color=\"blue\", linewidth=2.5, linestyle=\"-\")\n",
    "fig.suptitle('Error Terms', fontsize=20)              # Plot heading \n",
    "plt.xlabel('Index', fontsize=18)                      # X-label\n",
    "plt.ylabel('ytest-ypred', fontsize=16)   "
   ]
  },
  {
   "cell_type": "code",
   "execution_count": 103,
   "metadata": {},
   "outputs": [
    {
     "data": {
      "text/plain": [
       "Text(0, 0.5, 'y_pred')"
      ]
     },
     "execution_count": 103,
     "metadata": {},
     "output_type": "execute_result"
    },
    {
     "data": {
      "image/png": "[encoded data removed]",
      "text/plain": [
       "<Figure size 432x288 with 1 Axes>"
      ]
     },
     "metadata": {
      "needs_background": "light"
     },
     "output_type": "display_data"
    }
   ],
   "source": [
    "# Plotting y_test and y_pred to understand the spread.\n",
    "fig = plt.figure()\n",
    "plt.scatter(y_test,y_pred)\n",
    "fig.suptitle('y_test vs y_pred', fontsize=20)              # Plot heading \n",
    "plt.xlabel('y_test', fontsize=18)                          # X-label\n",
    "plt.ylabel('y_pred', fontsize=16) "
   ]
  },
  {
   "cell_type": "code",
   "execution_count": 104,
   "metadata": {},
   "outputs": [
    {
     "data": {
      "text/plain": [
       "Text(0, 0.5, 'Index')"
      ]
     },
     "execution_count": 104,
     "metadata": {},
     "output_type": "execute_result"
    },
    {
     "data": {
      "image/png": "[encoded data removed]",
      "text/plain": [
       "<Figure size 432x288 with 1 Axes>"
      ]
     },
     "metadata": {
      "needs_background": "light"
     },
     "output_type": "display_data"
    }
   ],
   "source": [
    "# Plotting the error terms to understand the distribution.\n",
    "fig = plt.figure()\n",
    "sns.distplot((y_test-y_pred),bins=50)\n",
    "fig.suptitle('Error Terms', fontsize=20)                  # Plot heading \n",
    "plt.xlabel('y_test-y_pred', fontsize=18)                  # X-label\n",
    "plt.ylabel('Index', fontsize=16)       "
   ]
  },
  {
   "cell_type": "code",
   "execution_count": 105,
   "metadata": {},
   "outputs": [
    {
     "name": "stdout",
     "output_type": "stream",
     "text": [
      "RMSE : 0.0733635087863537\n"
     ]
    }
   ],
   "source": [
    "# Now let's check the Root Mean Square Error of our model.\n",
    "import numpy as np\n",
    "from sklearn import metrics\n",
    "print('RMSE :', np.sqrt(metrics.mean_squared_error(y_test, y_pred)))"
   ]
  },
  {
   "cell_type": "markdown",
   "metadata": {},
   "source": [
    "# Third Model"
   ]
  },
  {
   "cell_type": "code",
   "execution_count": 197,
   "metadata": {},
   "outputs": [
    {
     "name": "stdout",
     "output_type": "stream",
     "text": [
      "[ True False False False  True  True False False False  True False False\n",
      " False False False False False False False False False False  True False\n",
      " False False  True  True False False False False False False False False\n",
      " False False False False False False False False False  True]\n",
      "[ 1 23 11 20  1  1 12  3 22  1 14 29  6  4 26 25 24 35 33 15 37 19  1 31\n",
      " 17 30  1  1  2 36 28 27 38 34 16 39  7  9 10  8 21 32  5 18 13  1]\n"
     ]
    }
   ],
   "source": [
    "# Running RFE with the output number of the variable equal to 10\n",
    "lm = LinearRegression()\n",
    "rfe = RFE(lm, 8)             # running RFE\n",
    "rfe = rfe.fit(X_train, y_train)\n",
    "print(rfe.support_)           # Printing the boolean results\n",
    "print(rfe.ranking_)  "
   ]
  },
  {
   "cell_type": "code",
   "execution_count": 198,
   "metadata": {},
   "outputs": [],
   "source": [
    "col = X_train.columns[rfe.support_]"
   ]
  },
  {
   "cell_type": "code",
   "execution_count": 199,
   "metadata": {},
   "outputs": [],
   "source": [
    "# Creating X_test dataframe with RFE selected variables\n",
    "X_train_rfe = X_train[col]"
   ]
  },
  {
   "cell_type": "code",
   "execution_count": 200,
   "metadata": {},
   "outputs": [
    {
     "data": {
      "text/plain": [
       "Index(['wheelbase', 'curbweight', 'enginesize', 'horsepower', 'rear eng_loc',\n",
       "       'three no_cyl', 'twelve no_cyl', 'rotor eng_typ'],\n",
       "      dtype='object')"
      ]
     },
     "execution_count": 200,
     "metadata": {},
     "output_type": "execute_result"
    }
   ],
   "source": [
    "X_train_rfe.columns"
   ]
  },
  {
   "cell_type": "code",
   "execution_count": 201,
   "metadata": {},
   "outputs": [],
   "source": [
    "lm_2 = sm.OLS(y_train,X_train_rfe).fit() # Running the linear model"
   ]
  },
  {
   "cell_type": "code",
   "execution_count": 202,
   "metadata": {},
   "outputs": [
    {
     "name": "stdout",
     "output_type": "stream",
     "text": [
      "                                 OLS Regression Results                                \n",
      "=======================================================================================\n",
      "Dep. Variable:                  price   R-squared (uncentered):                   0.854\n",
      "Model:                            OLS   Adj. R-squared (uncentered):              0.845\n",
      "Method:                 Least Squares   F-statistic:                              98.41\n",
      "Date:                Thu, 12 Mar 2020   Prob (F-statistic):                    1.64e-52\n",
      "Time:                        19:39:51   Log-Likelihood:                          169.57\n",
      "No. Observations:                 143   AIC:                                     -323.1\n",
      "Df Residuals:                     135   BIC:                                     -299.4\n",
      "Df Model:                           8                                                  \n",
      "Covariance Type:            nonrobust                                                  \n",
      "=================================================================================\n",
      "                    coef    std err          t      P>|t|      [0.025      0.975]\n",
      "---------------------------------------------------------------------------------\n",
      "wheelbase         0.1422      0.073      1.940      0.054      -0.003       0.287\n",
      "curbweight        0.1806      0.101      1.786      0.076      -0.019       0.381\n",
      "enginesize        0.6588      0.120      5.488      0.000       0.421       0.896\n",
      "horsepower        0.2090      0.081      2.568      0.011       0.048       0.370\n",
      "rear eng_loc      0.2821      0.082      3.452      0.001       0.120       0.444\n",
      "three no_cyl      0.1330      0.077      1.717      0.088      -0.020       0.286\n",
      "twelve no_cyl    -0.1752      0.091     -1.926      0.056      -0.355       0.005\n",
      "rotor eng_typ     0.1529      0.045      3.394      0.001       0.064       0.242\n",
      "==============================================================================\n",
      "Omnibus:                       25.266   Durbin-Watson:                   1.766\n",
      "Prob(Omnibus):                  0.000   Jarque-Bera (JB):               77.617\n",
      "Skew:                           0.600   Prob(JB):                     1.40e-17\n",
      "Kurtosis:                       6.404   Cond. No.                         7.50\n",
      "==============================================================================\n",
      "\n",
      "Warnings:\n",
      "[1] Standard Errors assume that the covariance matrix of the errors is correctly specified.\n"
     ]
    }
   ],
   "source": [
    "#Let's see the summary of our linear model\n",
    "print(lm_2.summary())"
   ]
  },
  {
   "cell_type": "code",
   "execution_count": 203,
   "metadata": {},
   "outputs": [
    {
     "name": "stdout",
     "output_type": "stream",
     "text": [
      "Index(['wheelbase', 'carlength', 'carwidth', 'carheight', 'curbweight',\n",
      "       'enginesize', 'boreratio', 'stroke', 'compressionratio', 'horsepower',\n",
      "       'peakrpm', 'citympg', 'highwaympg', '-2 symb', '0 symb', '1 symb',\n",
      "       '2 symb', '3 symb', 'gas', 'turbo aspi', 'two no_door', 'rwd drv_whl',\n",
      "       'rear eng_loc', 'five no_cyl', 'four no_cyl', 'six no_cyl',\n",
      "       'three no_cyl', 'twelve no_cyl', 'two no_cyl', '2bbl fuel_sys',\n",
      "       '4bbl fuel_sys', 'idi fuel_sys', 'mfi fuel_sys', 'mpfi fuel_sys',\n",
      "       'spdi fuel_sys', 'spfi fuel_sys', 'hardtop', 'hatchback', 'sedan',\n",
      "       'wagon', 'dohcv eng_typ', 'l eng_typ', 'ohc eng_typ', 'ohcf eng_typ',\n",
      "       'ohcv eng_typ', 'rotor eng_typ'],\n",
      "      dtype='object')\n"
     ]
    },
    {
     "name": "stderr",
     "output_type": "stream",
     "text": [
      "/home/chandan/anaconda3/lib/python3.7/site-packages/numpy/core/fromnumeric.py:2389: FutureWarning: Method .ptp is deprecated and will be removed in a future version. Use numpy.ptp instead.\n",
      "  return ptp(axis=axis, out=out, **kwargs)\n"
     ]
    },
    {
     "data": {
      "text/plain": [
       "Index(['wheelbase', 'curbweight', 'enginesize', 'horsepower', 'rear eng_loc',\n",
       "       'three no_cyl', 'twelve no_cyl', 'rotor eng_typ'],\n",
       "      dtype='object')"
      ]
     },
     "execution_count": 203,
     "metadata": {},
     "output_type": "execute_result"
    }
   ],
   "source": [
    "# Now let's use our model to make predictions.\n",
    "\n",
    "# Creating X_test_rfe dataframe by dropping variables from X_test\n",
    "X_test_rfe = X_test[col]\n",
    "\n",
    "# Adding a constant variable \n",
    "X_test_rfe = sm.add_constant(X_test_rfe)\n",
    "\n",
    "print(X_test.columns)\n",
    "X_test_rfe.columns"
   ]
  },
  {
   "cell_type": "code",
   "execution_count": 206,
   "metadata": {},
   "outputs": [],
   "source": [
    "col = list(X_train_rfe.columns)"
   ]
  },
  {
   "cell_type": "code",
   "execution_count": 207,
   "metadata": {},
   "outputs": [],
   "source": [
    "col.append('price')"
   ]
  },
  {
   "cell_type": "code",
   "execution_count": 208,
   "metadata": {},
   "outputs": [
    {
     "data": {
      "text/html": [
       "<div>\n",
       "<style scoped>\n",
       "    .dataframe tbody tr th:only-of-type {\n",
       "        vertical-align: middle;\n",
       "    }\n",
       "\n",
       "    .dataframe tbody tr th {\n",
       "        vertical-align: top;\n",
       "    }\n",
       "\n",
       "    .dataframe thead th {\n",
       "        text-align: right;\n",
       "    }\n",
       "</style>\n",
       "<table border=\"1\" class=\"dataframe\">\n",
       "  <thead>\n",
       "    <tr style=\"text-align: right;\">\n",
       "      <th></th>\n",
       "      <th>Var</th>\n",
       "      <th>Vif</th>\n",
       "    </tr>\n",
       "  </thead>\n",
       "  <tbody>\n",
       "    <tr>\n",
       "      <th>1</th>\n",
       "      <td>curbweight</td>\n",
       "      <td>9.17</td>\n",
       "    </tr>\n",
       "    <tr>\n",
       "      <th>2</th>\n",
       "      <td>enginesize</td>\n",
       "      <td>6.18</td>\n",
       "    </tr>\n",
       "    <tr>\n",
       "      <th>3</th>\n",
       "      <td>horsepower</td>\n",
       "      <td>4.42</td>\n",
       "    </tr>\n",
       "    <tr>\n",
       "      <th>0</th>\n",
       "      <td>wheelbase</td>\n",
       "      <td>3.77</td>\n",
       "    </tr>\n",
       "    <tr>\n",
       "      <th>4</th>\n",
       "      <td>rear eng_loc</td>\n",
       "      <td>1.31</td>\n",
       "    </tr>\n",
       "    <tr>\n",
       "      <th>6</th>\n",
       "      <td>twelve no_cyl</td>\n",
       "      <td>1.23</td>\n",
       "    </tr>\n",
       "    <tr>\n",
       "      <th>7</th>\n",
       "      <td>rotor eng_typ</td>\n",
       "      <td>1.18</td>\n",
       "    </tr>\n",
       "    <tr>\n",
       "      <th>5</th>\n",
       "      <td>three no_cyl</td>\n",
       "      <td>1.02</td>\n",
       "    </tr>\n",
       "  </tbody>\n",
       "</table>\n",
       "</div>"
      ],
      "text/plain": [
       "             Var   Vif\n",
       "1     curbweight  9.17\n",
       "2     enginesize  6.18\n",
       "3     horsepower  4.42\n",
       "0      wheelbase  3.77\n",
       "4   rear eng_loc  1.31\n",
       "6  twelve no_cyl  1.23\n",
       "7  rotor eng_typ  1.18\n",
       "5   three no_cyl  1.02"
      ]
     },
     "execution_count": 208,
     "metadata": {},
     "output_type": "execute_result"
    }
   ],
   "source": [
    "vif_cal(input_data=car_temp[col], dependent_col = \"price\")"
   ]
  },
  {
   "cell_type": "code",
   "execution_count": 209,
   "metadata": {},
   "outputs": [],
   "source": [
    "# Making predictions\n",
    "y_pred = lm_2.predict(X_test_rfe)"
   ]
  },
  {
   "cell_type": "code",
   "execution_count": 210,
   "metadata": {},
   "outputs": [
    {
     "data": {
      "text/plain": [
       "Text(0, 0.5, 'Price')"
      ]
     },
     "execution_count": 210,
     "metadata": {},
     "output_type": "execute_result"
    },
    {
     "data": {
      "image/png": "[encoded data removed]",
      "text/plain": [
       "<Figure size 432x288 with 1 Axes>"
      ]
     },
     "metadata": {
      "needs_background": "light"
     },
     "output_type": "display_data"
    }
   ],
   "source": [
    "# Actual and Predicted\n",
    "import matplotlib.pyplot as plt\n",
    "c = [i for i in range(1,63,1)] # generating index \n",
    "fig = plt.figure() \n",
    "plt.plot(c,y_test, color=\"blue\", linewidth=2.5, linestyle=\"-\") #Plotting Actual\n",
    "plt.plot(c,y_pred, color=\"red\",  linewidth=2.5, linestyle=\"-\") #Plotting predicted\n",
    "fig.suptitle('Actual and Predicted (with 15 variables)', fontsize=20)              # Plot heading \n",
    "plt.xlabel('Index', fontsize=18)                               # X-label\n",
    "plt.ylabel('Price', fontsize=16)    "
   ]
  },
  {
   "cell_type": "code",
   "execution_count": 211,
   "metadata": {},
   "outputs": [
    {
     "data": {
      "text/plain": [
       "Text(0, 0.5, 'ytest-ypred')"
      ]
     },
     "execution_count": 211,
     "metadata": {},
     "output_type": "execute_result"
    },
    {
     "data": {
      "image/png": "[encoded data removed]",
      "text/plain": [
       "<Figure size 432x288 with 1 Axes>"
      ]
     },
     "metadata": {
      "needs_background": "light"
     },
     "output_type": "display_data"
    }
   ],
   "source": [
    "# Error terms\n",
    "c = [i for i in range(1,63,1)]\n",
    "fig = plt.figure()\n",
    "plt.plot(c,y_test-y_pred, color=\"blue\", linewidth=2.5, linestyle=\"-\")\n",
    "fig.suptitle('Error Terms', fontsize=20)              # Plot heading \n",
    "plt.xlabel('Index', fontsize=18)                      # X-label\n",
    "plt.ylabel('ytest-ypred', fontsize=16)   "
   ]
  },
  {
   "cell_type": "code",
   "execution_count": 212,
   "metadata": {},
   "outputs": [
    {
     "data": {
      "text/plain": [
       "Text(0, 0.5, 'y_pred')"
      ]
     },
     "execution_count": 212,
     "metadata": {},
     "output_type": "execute_result"
    },
    {
     "data": {
      "image/png": "[encoded data removed]",
      "text/plain": [
       "<Figure size 432x288 with 1 Axes>"
      ]
     },
     "metadata": {
      "needs_background": "light"
     },
     "output_type": "display_data"
    }
   ],
   "source": [
    "# Plotting y_test and y_pred to understand the spread.\n",
    "fig = plt.figure()\n",
    "plt.scatter(y_test,y_pred)\n",
    "fig.suptitle('y_test vs y_pred', fontsize=20)              # Plot heading \n",
    "plt.xlabel('y_test', fontsize=18)                          # X-label\n",
    "plt.ylabel('y_pred', fontsize=16) "
   ]
  },
  {
   "cell_type": "code",
   "execution_count": 213,
   "metadata": {},
   "outputs": [
    {
     "data": {
      "text/plain": [
       "Text(0, 0.5, 'Index')"
      ]
     },
     "execution_count": 213,
     "metadata": {},
     "output_type": "execute_result"
    },
    {
     "data": {
      "image/png": "[encoded data removed]",
      "text/plain": [
       "<Figure size 432x288 with 1 Axes>"
      ]
     },
     "metadata": {
      "needs_background": "light"
     },
     "output_type": "display_data"
    }
   ],
   "source": [
    "# Plotting the error terms to understand the distribution.\n",
    "fig = plt.figure()\n",
    "sns.distplot((y_test-y_pred),bins=50)\n",
    "fig.suptitle('Error Terms', fontsize=20)                  # Plot heading \n",
    "plt.xlabel('y_test-y_pred', fontsize=18)                  # X-label\n",
    "plt.ylabel('Index', fontsize=16)    \n",
    "\n",
    "#distribution is very near to gaussian's distribution"
   ]
  },
  {
   "cell_type": "code",
   "execution_count": 214,
   "metadata": {},
   "outputs": [
    {
     "name": "stdout",
     "output_type": "stream",
     "text": [
      "RMSE : 0.07421271594407762\n"
     ]
    }
   ],
   "source": [
    "# Now let's check the Root Mean Square Error of our model.\n",
    "import numpy as np\n",
    "from sklearn import metrics\n",
    "print('RMSE :', np.sqrt(metrics.mean_squared_error(y_test, y_pred)))"
   ]
  },
  {
   "cell_type": "markdown",
   "metadata": {},
   "source": [
    "#####  Final model includes 8 features with all Variance Inflation score less than 10 and p value showing significance less than 0.5 and Root Mean Square Error Close 0.08"
   ]
  }
 ],
 "metadata": {
  "kernelspec": {
   "display_name": "Python 3",
   "language": "python",
   "name": "python3"
  },
  "language_info": {
   "codemirror_mode": {
    "name": "ipython",
    "version": 3
   },
   "file_extension": ".py",
   "mimetype": "text/x-python",
   "name": "python",
   "nbconvert_exporter": "python",
   "pygments_lexer": "ipython3",
   "version": "3.7.3"
  }
 },
 "nbformat": 4,
 "nbformat_minor": 2
}
