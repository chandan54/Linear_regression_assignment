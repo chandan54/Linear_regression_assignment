{
 "cells": [
  {
   "cell_type": "code",
   "execution_count": 2,
   "metadata": {},
   "outputs": [
    {
     "name": "stdout",
     "output_type": "stream",
     "text": [
      "Collecting minecart\n",
      "\u001b[33m  WARNING: Retrying (Retry(total=4, connect=None, read=None, redirect=None, status=None)) after connection broken by 'NewConnectionError('<pip._vendor.urllib3.connection.VerifiedHTTPSConnection object at 0x7f297f9b46d8>: Failed to establish a new connection: [Errno -2] Name or service not known')': /simple/minecart/\u001b[0m\n",
      "\u001b[33m  WARNING: Retrying (Retry(total=3, connect=None, read=None, redirect=None, status=None)) after connection broken by 'NewConnectionError('<pip._vendor.urllib3.connection.VerifiedHTTPSConnection object at 0x7f297f9b45f8>: Failed to establish a new connection: [Errno -2] Name or service not known')': /simple/minecart/\u001b[0m\n",
      "\u001b[33m  WARNING: Retrying (Retry(total=2, connect=None, read=None, redirect=None, status=None)) after connection broken by 'NewConnectionError('<pip._vendor.urllib3.connection.VerifiedHTTPSConnection object at 0x7f297f9b4588>: Failed to establish a new connection: [Errno -2] Name or service not known')': /simple/minecart/\u001b[0m\n",
      "  Downloading https://files.pythonhosted.org/packages/14/a9/6a59d0902138e33e17974bfbc377089364bcf4e3fa0f6d0f8d0578c7326f/minecart-0.3.0-py3-none-any.whl\n",
      "Requirement already satisfied: six in /home/chandan/anaconda3/lib/python3.7/site-packages (from minecart) (1.12.0)\n",
      "Collecting pdfminer3k (from minecart)\n",
      "\u001b[?25l  Downloading https://files.pythonhosted.org/packages/8c/87/cee0aa24f95c287020df7e3936cb51d32b34b05b430759bac15f89ea5ac2/pdfminer3k-1.3.1.tar.gz (4.1MB)\n",
      "\u001b[K     |████████████████████████████████| 4.1MB 526kB/s eta 0:00:01\n",
      "\u001b[?25hRequirement already satisfied: pytest>=2.0 in /home/chandan/anaconda3/lib/python3.7/site-packages (from pdfminer3k->minecart) (5.0.1)\n",
      "Requirement already satisfied: ply>=3.4 in /home/chandan/anaconda3/lib/python3.7/site-packages (from pdfminer3k->minecart) (3.11)\n",
      "Requirement already satisfied: py>=1.5.0 in /home/chandan/anaconda3/lib/python3.7/site-packages (from pytest>=2.0->pdfminer3k->minecart) (1.8.0)\n",
      "Requirement already satisfied: packaging in /home/chandan/anaconda3/lib/python3.7/site-packages (from pytest>=2.0->pdfminer3k->minecart) (19.0)\n",
      "Requirement already satisfied: attrs>=17.4.0 in /home/chandan/anaconda3/lib/python3.7/site-packages (from pytest>=2.0->pdfminer3k->minecart) (19.1.0)\n",
      "Requirement already satisfied: more-itertools>=4.0.0 in /home/chandan/anaconda3/lib/python3.7/site-packages (from pytest>=2.0->pdfminer3k->minecart) (7.0.0)\n",
      "Requirement already satisfied: atomicwrites>=1.0 in /home/chandan/anaconda3/lib/python3.7/site-packages (from pytest>=2.0->pdfminer3k->minecart) (1.3.0)\n",
      "Requirement already satisfied: pluggy<1.0,>=0.12 in /home/chandan/anaconda3/lib/python3.7/site-packages (from pytest>=2.0->pdfminer3k->minecart) (0.12.0)\n",
      "Requirement already satisfied: importlib-metadata>=0.12 in /home/chandan/anaconda3/lib/python3.7/site-packages (from pytest>=2.0->pdfminer3k->minecart) (0.17)\n",
      "Requirement already satisfied: wcwidth in /home/chandan/anaconda3/lib/python3.7/site-packages (from pytest>=2.0->pdfminer3k->minecart) (0.1.7)\n",
      "Requirement already satisfied: pyparsing>=2.0.2 in /home/chandan/anaconda3/lib/python3.7/site-packages (from packaging->pytest>=2.0->pdfminer3k->minecart) (2.4.0)\n",
      "Requirement already satisfied: zipp>=0.5 in /home/chandan/anaconda3/lib/python3.7/site-packages (from importlib-metadata>=0.12->pytest>=2.0->pdfminer3k->minecart) (0.5.1)\n",
      "Building wheels for collected packages: pdfminer3k\n",
      "  Building wheel for pdfminer3k (setup.py) ... \u001b[?25ldone\n",
      "\u001b[?25h  Stored in directory: /home/chandan/.cache/pip/wheels/ca/4f/a7/cb601b4fb257d2321ac668b7c6e269176780bd0283eda855d2\n",
      "Successfully built pdfminer3k\n",
      "Installing collected packages: pdfminer3k, minecart\n",
      "Successfully installed minecart-0.3.0 pdfminer3k-1.3.1\n"
     ]
    }
   ],
   "source": [
    "! pip install minecart"
   ]
  },
  {
   "cell_type": "code",
   "execution_count": 7,
   "metadata": {},
   "outputs": [
    {
     "name": "stdout",
     "output_type": "stream",
     "text": [
      "Collecting fitz\n",
      "  Downloading https://files.pythonhosted.org/packages/7e/28/27f27d66eb82f24e6595deb26c0a875e62431878c416e38eac515023abb2/fitz-0.0.1.dev2-py2.py3-none-any.whl\n",
      "Collecting pyxnat (from fitz)\n",
      "\u001b[?25l  Downloading https://files.pythonhosted.org/packages/6e/0e/5110817d032aa1d32bbc6278e2add99d3538c5bd0716a921088fcee851c5/pyxnat-1.2.1.0.post3.tar.gz (62kB)\n",
      "\u001b[K     |████████████████████████████████| 71kB 345kB/s eta 0:00:01\n",
      "\u001b[?25hRequirement already satisfied: pandas in /home/chandan/anaconda3/lib/python3.7/site-packages (from fitz) (0.25.3)\n",
      "Collecting httplib2 (from fitz)\n",
      "\u001b[?25l  Downloading https://files.pythonhosted.org/packages/8e/4b/025a7338bb2d4a2c61f0e530b79aafc29d112ed8e61333a6dd9ba48f3bab/httplib2-0.17.0-py3-none-any.whl (95kB)\n",
      "\u001b[K     |████████████████████████████████| 102kB 493kB/s ta 0:00:011\n",
      "\u001b[?25hCollecting configparser (from fitz)\n",
      "  Downloading https://files.pythonhosted.org/packages/7a/2a/95ed0501cf5d8709490b1d3a3f9b5cf340da6c433f896bbe9ce08dbe6785/configparser-4.0.2-py2.py3-none-any.whl\n",
      "Collecting nibabel (from fitz)\n",
      "\u001b[?25l  Downloading https://files.pythonhosted.org/packages/dd/b9/e69a4798f70b64c3f253868cedee6ec855759d387d722e46fe900adb8c64/nibabel-3.0.2-py3-none-any.whl (3.3MB)\n",
      "\u001b[K     |████████████████████████████████| 3.3MB 1.7MB/s eta 0:00:011\n",
      "\u001b[?25hCollecting nipype (from fitz)\n",
      "\u001b[?25l  Downloading https://files.pythonhosted.org/packages/73/f2/e094bf653b5ec180f8227901056ff35ffd7edfc23f967b67dd4238d0f4c7/nipype-1.4.2-py3-none-any.whl (3.1MB)\n",
      "\u001b[K     |████████████████████████████████| 3.1MB 1.5MB/s eta 0:00:01\n",
      "\u001b[?25hRequirement already satisfied: numpy in /home/chandan/anaconda3/lib/python3.7/site-packages (from fitz) (1.16.4)\n",
      "Collecting configobj (from fitz)\n",
      "  Downloading https://files.pythonhosted.org/packages/64/61/079eb60459c44929e684fa7d9e2fdca403f67d64dd9dbac27296be2e0fab/configobj-5.0.6.tar.gz\n",
      "Requirement already satisfied: scipy in /home/chandan/anaconda3/lib/python3.7/site-packages (from fitz) (1.3.0)\n",
      "Requirement already satisfied: lxml>=4.3 in /home/chandan/anaconda3/lib/python3.7/site-packages (from pyxnat->fitz) (4.3.4)\n",
      "Requirement already satisfied: requests>=2.20 in /home/chandan/anaconda3/lib/python3.7/site-packages (from pyxnat->fitz) (2.22.0)\n",
      "Requirement already satisfied: pytz>=2017.2 in /home/chandan/anaconda3/lib/python3.7/site-packages (from pandas->fitz) (2019.1)\n",
      "Requirement already satisfied: python-dateutil>=2.6.1 in /home/chandan/anaconda3/lib/python3.7/site-packages (from pandas->fitz) (2.8.0)\n",
      "Collecting traits!=5.0,>=4.6 (from nipype->fitz)\n",
      "\u001b[?25l  Downloading https://files.pythonhosted.org/packages/b9/af/c6dc88130106d69e4f9a192043c85ed4cb522f83b9041b8691f0b0678405/traits-6.0.0.tar.gz (441kB)\n",
      "\u001b[K     |████████████████████████████████| 450kB 6.4MB/s eta 0:00:01\n",
      "\u001b[?25hCollecting pydotplus (from nipype->fitz)\n",
      "\u001b[?25l  Downloading https://files.pythonhosted.org/packages/60/bf/62567830b700d9f6930e9ab6831d6ba256f7b0b730acb37278b0ccdffacf/pydotplus-2.0.2.tar.gz (278kB)\n",
      "\u001b[K     |████████████████████████████████| 286kB 2.9MB/s eta 0:00:01\n",
      "\u001b[?25hCollecting simplejson>=3.8.0 (from nipype->fitz)\n",
      "\u001b[?25l  Downloading https://files.pythonhosted.org/packages/98/87/a7b98aa9256c8843f92878966dc3d8d914c14aad97e2c5ce4798d5743e07/simplejson-3.17.0.tar.gz (83kB)\n",
      "\u001b[K     |████████████████████████████████| 92kB 13.9MB/s eta 0:00:01\n",
      "\u001b[?25hCollecting prov>=1.5.2 (from nipype->fitz)\n",
      "\u001b[?25l  Downloading https://files.pythonhosted.org/packages/aa/f1/85f277cf15ce2fed6f189b220ff14d7b33b21cc7beb95ae48f1255672e74/prov-1.5.3-py2.py3-none-any.whl (423kB)\n",
      "\u001b[K     |████████████████████████████████| 430kB 17.4MB/s eta 0:00:01\n",
      "\u001b[?25hRequirement already satisfied: networkx>=1.9 in /home/chandan/anaconda3/lib/python3.7/site-packages (from nipype->fitz) (2.3)\n",
      "Requirement already satisfied: filelock>=3.0.0 in /home/chandan/anaconda3/lib/python3.7/site-packages (from nipype->fitz) (3.0.12)\n",
      "Collecting etelemetry (from nipype->fitz)\n",
      "  Downloading https://files.pythonhosted.org/packages/c0/e4/d11d33fe6b0c357776e2b36e76eea5948db2060a155b2862d0d6612730da/etelemetry-0.1.2-py3-none-any.whl\n",
      "Collecting neurdflib (from nipype->fitz)\n",
      "\u001b[?25l  Downloading https://files.pythonhosted.org/packages/41/66/304a1ad40fecee3504a315d831afcaebe156a62ff1628311bac3cb8d55c8/neurdflib-5.0.1-py3-none-any.whl (226kB)\n",
      "\u001b[K     |████████████████████████████████| 235kB 4.6MB/s eta 0:00:01\n",
      "\u001b[?25hRequirement already satisfied: click>=6.6.0 in /home/chandan/anaconda3/lib/python3.7/site-packages (from nipype->fitz) (7.0)\n",
      "Requirement already satisfied: packaging in /home/chandan/anaconda3/lib/python3.7/site-packages (from nipype->fitz) (19.0)\n",
      "Collecting pydot>=1.2.3 (from nipype->fitz)\n",
      "  Downloading https://files.pythonhosted.org/packages/33/d1/b1479a770f66d962f545c2101630ce1d5592d90cb4f083d38862e93d16d2/pydot-1.4.1-py2.py3-none-any.whl\n",
      "Requirement already satisfied: six in /home/chandan/anaconda3/lib/python3.7/site-packages (from configobj->fitz) (1.12.0)\n",
      "Requirement already satisfied: certifi>=2017.4.17 in /home/chandan/anaconda3/lib/python3.7/site-packages (from requests>=2.20->pyxnat->fitz) (2019.6.16)\n",
      "Requirement already satisfied: chardet<3.1.0,>=3.0.2 in /home/chandan/anaconda3/lib/python3.7/site-packages (from requests>=2.20->pyxnat->fitz) (3.0.4)\n",
      "Requirement already satisfied: idna<2.9,>=2.5 in /home/chandan/anaconda3/lib/python3.7/site-packages (from requests>=2.20->pyxnat->fitz) (2.8)\n",
      "Requirement already satisfied: urllib3!=1.25.0,!=1.25.1,<1.26,>=1.21.1 in /home/chandan/anaconda3/lib/python3.7/site-packages (from requests>=2.20->pyxnat->fitz) (1.24.2)\n",
      "Requirement already satisfied: pyparsing>=2.0.1 in /home/chandan/anaconda3/lib/python3.7/site-packages (from pydotplus->nipype->fitz) (2.4.0)\n",
      "Collecting rdflib>=4.2.1 (from prov>=1.5.2->nipype->fitz)\n",
      "\u001b[?25l  Downloading https://files.pythonhosted.org/packages/3c/fe/630bacb652680f6d481b9febbb3e2c3869194a1a5fc3401a4a41195a2f8f/rdflib-4.2.2-py3-none-any.whl (344kB)\n",
      "\u001b[K     |████████████████████████████████| 348kB 19.5MB/s eta 0:00:01\n",
      "\u001b[?25hRequirement already satisfied: decorator>=4.3.0 in /home/chandan/anaconda3/lib/python3.7/site-packages (from networkx>=1.9->nipype->fitz) (4.4.0)\n",
      "Collecting isodate (from neurdflib->nipype->fitz)\n",
      "\u001b[?25l  Downloading https://files.pythonhosted.org/packages/9b/9f/b36f7774ff5ea8e428fdcfc4bb332c39ee5b9362ddd3d40d9516a55221b2/isodate-0.6.0-py2.py3-none-any.whl (45kB)\n",
      "\u001b[K     |████████████████████████████████| 51kB 10.3MB/s eta 0:00:01\n",
      "\u001b[?25hBuilding wheels for collected packages: pyxnat, configobj, traits, pydotplus, simplejson\n",
      "  Building wheel for pyxnat (setup.py) ... \u001b[?25ldone\n",
      "\u001b[?25h  Stored in directory: /home/chandan/.cache/pip/wheels/98/46/71/7096c8f1537087e7628bdcc723f6e766880f8dde2667009371\n",
      "  Building wheel for configobj (setup.py) ... \u001b[?25ldone\n",
      "\u001b[?25h  Stored in directory: /home/chandan/.cache/pip/wheels/f1/e4/16/4981ca97c2d65106b49861e0b35e2660695be7219a2d351ee0\n",
      "  Building wheel for traits (setup.py) ... \u001b[?25ldone\n",
      "\u001b[?25h  Stored in directory: /home/chandan/.cache/pip/wheels/41/a7/f0/d1dfae8d3a4e5638a40818830c741c1c0e9f8a590b9ea22935\n",
      "  Building wheel for pydotplus (setup.py) ... \u001b[?25ldone\n",
      "\u001b[?25h  Stored in directory: /home/chandan/.cache/pip/wheels/35/7b/ab/66fb7b2ac1f6df87475b09dc48e707b6e0de80a6d8444e3628\n",
      "  Building wheel for simplejson (setup.py) ... \u001b[?25ldone\n",
      "\u001b[?25h  Stored in directory: /home/chandan/.cache/pip/wheels/86/c0/83/dcd0339abb2640544bb8e0938aab2d069cef55e5647ce6e097\n",
      "Successfully built pyxnat configobj traits pydotplus simplejson\n",
      "Installing collected packages: pyxnat, httplib2, configparser, nibabel, traits, pydotplus, simplejson, isodate, rdflib, prov, etelemetry, neurdflib, pydot, nipype, configobj, fitz\n",
      "Successfully installed configobj-5.0.6 configparser-4.0.2 etelemetry-0.1.2 fitz-0.0.1.dev2 httplib2-0.17.0 isodate-0.6.0 neurdflib-5.0.1 nibabel-3.0.2 nipype-1.4.2 prov-1.5.3 pydot-1.4.1 pydotplus-2.0.2 pyxnat-1.2.1.0.post3 rdflib-4.2.2 simplejson-3.17.0 traits-6.0.0\n"
     ]
    }
   ],
   "source": [
    "! pip install fitz"
   ]
  },
  {
   "cell_type": "code",
   "execution_count": 9,
   "metadata": {},
   "outputs": [
    {
     "name": "stdout",
     "output_type": "stream",
     "text": [
      "Collecting PyMuPDF\n",
      "\u001b[?25l  Downloading https://files.pythonhosted.org/packages/53/a9/9223d691c810ae1358e03064645aa0534e6f737ab0a7f1d0f4e271eface8/PyMuPDF-1.16.11-cp37-cp37m-manylinux2010_x86_64.whl (5.3MB)\n",
      "\u001b[K     |████████████████████████████████| 5.3MB 506kB/s eta 0:00:01\n",
      "\u001b[?25hInstalling collected packages: PyMuPDF\n",
      "Successfully installed PyMuPDF-1.16.11\n"
     ]
    }
   ],
   "source": [
    "! pip install PyMuPDF"
   ]
  },
  {
   "cell_type": "code",
   "execution_count": 10,
   "metadata": {},
   "outputs": [],
   "source": [
    "import fitz\n",
    "doc = fitz.open(\"/home/chandan/Upgrad/Linear_regression_assignment/sample (1).pdf\")\n",
    "for i in range(len(doc)):\n",
    "    for img in doc.getPageImageList(i):\n",
    "        xref = img[0]\n",
    "        pix = fitz.Pixmap(doc, xref)      # this is GRAY or RGB\n",
    "#         pix.writePNG(\"/home/chandan/Upgrad/Linear_regression_assignment/folder/p%s-%s.png\" % (i, xref))               # CMYK: convert to RGB first\n",
    "        pix1 = fitz.Pixmap(fitz.csRGB, pix)\n",
    "        pix1.writePNG(\"p%s-%s.png\" % (i, xref))\n",
    "        pix1 = None\n",
    "        pix = None"
   ]
  },
  {
   "cell_type": "code",
   "execution_count": null,
   "metadata": {},
   "outputs": [],
   "source": []
  }
 ],
 "metadata": {
  "kernelspec": {
   "display_name": "Python 3",
   "language": "python",
   "name": "python3"
  },
  "language_info": {
   "codemirror_mode": {
    "name": "ipython",
    "version": 3
   },
   "file_extension": ".py",
   "mimetype": "text/x-python",
   "name": "python",
   "nbconvert_exporter": "python",
   "pygments_lexer": "ipython3",
   "version": "3.7.3"
  }
 },
 "nbformat": 4,
 "nbformat_minor": 2
}
